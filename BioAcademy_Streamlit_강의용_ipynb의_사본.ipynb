{
  "cells": [
    {
      "cell_type": "markdown",
      "metadata": {
        "id": "view-in-github",
        "colab_type": "text"
      },
      "source": [
        "<a href=\"https://colab.research.google.com/github/JoshuHwa/machine-learning/blob/master/BioAcademy_Streamlit_%EA%B0%95%EC%9D%98%EC%9A%A9_ipynb%EC%9D%98_%EC%82%AC%EB%B3%B8.ipynb\" target=\"_parent\"><img src=\"https://colab.research.google.com/assets/colab-badge.svg\" alt=\"Open In Colab\"/></a>"
      ]
    },
    {
      "cell_type": "markdown",
      "metadata": {
        "id": "KALh-pv2Qiop"
      },
      "source": [
        "# Install Streamlit library"
      ]
    },
    {
      "cell_type": "code",
      "execution_count": 1,
      "metadata": {
        "id": "gym2RnBXPfda",
        "colab": {
          "base_uri": "https://localhost:8080/"
        },
        "outputId": "7577afb3-5abe-4393-e966-6aedc4933bf3"
      },
      "outputs": [
        {
          "output_type": "stream",
          "name": "stdout",
          "text": [
            "\u001b[2K   \u001b[90m━━━━━━━━━━━━━━━━━━━━━━━━━━━━━━━━━━━━━━━━\u001b[0m \u001b[32m8.7/8.7 MB\u001b[0m \u001b[31m13.9 MB/s\u001b[0m eta \u001b[36m0:00:00\u001b[0m\n",
            "\u001b[2K   \u001b[90m━━━━━━━━━━━━━━━━━━━━━━━━━━━━━━━━━━━━━━━━\u001b[0m \u001b[32m207.3/207.3 kB\u001b[0m \u001b[31m12.7 MB/s\u001b[0m eta \u001b[36m0:00:00\u001b[0m\n",
            "\u001b[2K   \u001b[90m━━━━━━━━━━━━━━━━━━━━━━━━━━━━━━━━━━━━━━━━\u001b[0m \u001b[32m6.9/6.9 MB\u001b[0m \u001b[31m17.4 MB/s\u001b[0m eta \u001b[36m0:00:00\u001b[0m\n",
            "\u001b[2K   \u001b[90m━━━━━━━━━━━━━━━━━━━━━━━━━━━━━━━━━━━━━━━━\u001b[0m \u001b[32m83.0/83.0 kB\u001b[0m \u001b[31m3.1 MB/s\u001b[0m eta \u001b[36m0:00:00\u001b[0m\n",
            "\u001b[2K   \u001b[90m━━━━━━━━━━━━━━━━━━━━━━━━━━━━━━━━━━━━━━━━\u001b[0m \u001b[32m62.7/62.7 kB\u001b[0m \u001b[31m3.2 MB/s\u001b[0m eta \u001b[36m0:00:00\u001b[0m\n",
            "\u001b[?25h"
          ]
        }
      ],
      "source": [
        "# Streamlit 라이브러리를 설치합니다. -q 옵션은 설치 과정을 조용히(quiet) 진행합니다.\n",
        "! pip install streamlit -q"
      ]
    },
    {
      "cell_type": "code",
      "execution_count": 2,
      "metadata": {
        "colab": {
          "base_uri": "https://localhost:8080/"
        },
        "id": "8N4_1QlgPovc",
        "outputId": "f456362b-388b-4a35-944e-9b7ed2c73a65"
      },
      "outputs": [
        {
          "output_type": "stream",
          "name": "stdout",
          "text": [
            "Writing app.py\n"
          ]
        }
      ],
      "source": [
        "# 가장 간단한 앱을 작성해봅시다.\n",
        "# %%writefile 매직 명령어를 사용해 다음 코드를 app.py 파일로 저장합니다.\n",
        "%%writefile app.py\n",
        "import streamlit as st  # Streamlit 라이브러리를 가져옵니다.\n",
        "st.write('# Streamlit ')  # 웹 앱에 \"Streamlit\" 제목을 표시합니다."
      ]
    },
    {
      "cell_type": "markdown",
      "source": [
        "# localtunnel로 웹 앱 접속하기\n",
        "- localtunnel은 회원가입 없이 간편하게 사용할 수 있습니다. 하지만 접속이 끊어지거나 잘 되지 않는 문제가 있어서 이번 실습에는 사용하지 않습니다. 참고만 하세요."
      ],
      "metadata": {
        "id": "2hBO1YuV607T"
      }
    },
    {
      "cell_type": "code",
      "source": [
        "# # 현재 시스템의 공개 IP 주소를 확인합니다.\n",
        "# # wget 명령어를 사용해 ipv4.icanhazip.com 서비스에서 IP 주소를 가져옵니다.\n",
        "# # -q 옵션은 wget의 출력을 조용히 합니다. -O - 옵션은 결과를 표준 출력으로 보냅니다.\n",
        "# !wget -q -O - ipv4.icanhazip.com"
      ],
      "metadata": {
        "id": "xhR4dDf20EaH",
        "colab": {
          "base_uri": "https://localhost:8080/"
        },
        "outputId": "8db7e817-5ceb-4d20-bbb7-e9e35a2a341e"
      },
      "execution_count": null,
      "outputs": [
        {
          "output_type": "stream",
          "name": "stdout",
          "text": [
            "35.230.44.227\n"
          ]
        }
      ]
    },
    {
      "cell_type": "code",
      "execution_count": null,
      "metadata": {
        "id": "sj8HV625P98l"
      },
      "outputs": [],
      "source": [
        "# # Streamlit 앱을 실행하고 localtunnel을 사용해 외부에서 접근 가능하게 만듭니다.\n",
        "# # & 기호는 명령을 백그라운드에서 실행하게 합니다.\n",
        "# # npx는 Node.js 패키지를 실행하는 도구입니다.\n",
        "# # localtunnel은 로컬 서버를 인터넷에 공개할 수 있게 해주는 도구입니다.\n",
        "# !streamlit run app.py & npx localtunnel --port 8501"
      ]
    },
    {
      "cell_type": "markdown",
      "source": [
        "# ngrok 사용하여 웹 앱 접속\n",
        "https://ngrok.com/\n",
        "가입(구글 계정 사용 가능) & authtoken 코드 복사"
      ],
      "metadata": {
        "id": "LIv_qYNd5WFv"
      }
    },
    {
      "cell_type": "code",
      "source": [
        "# 라이브러리 설치하기\n",
        "!pip install pyngrok -q"
      ],
      "metadata": {
        "id": "KFGTbchc5UlZ"
      },
      "execution_count": 3,
      "outputs": []
    },
    {
      "cell_type": "markdown",
      "source": [
        "- 주의: 아래 코드는 멀티스레드를 사용하여 streamlit 웹 앱을 실행합니다. 실습이 끝난 후 노트북을 닫거나 상단의 메뉴에서 런타임 -  실행 중단을 선택하여 종료하도록 합시다."
      ],
      "metadata": {
        "id": "XnbjiQGR7b0c"
      }
    },
    {
      "cell_type": "code",
      "source": [
        "import threading\n",
        "import streamlit as st\n",
        "from pyngrok import ngrok\n",
        "import subprocess\n",
        "import time\n",
        "\n",
        "# ngrok 인증 토큰 설정\n",
        "ngrok.set_auth_token(\"2kPEVmrUmStDmIKatsxEwgBxVov_4HYphugw7iCWDj7nHK7aM\") # 여기에 토큰을 넣어주세요!!!!\n",
        "\n",
        "def run_streamlit():\n",
        "    subprocess.Popen([\"streamlit\", \"run\", \"app.py\", \"--server.port\", \"8501\", \"--server.headless\", \"true\"])\n",
        "\n",
        "# Streamlit 실행을 위한 스레드 생성 및 시작\n",
        "streamlit_thread = threading.Thread(target=run_streamlit)\n",
        "streamlit_thread.start()\n",
        "\n",
        "# Streamlit 서버가 시작될 때까지 잠시 대기\n",
        "time.sleep(5)\n",
        "\n",
        "# ngrok 터널 생성\n",
        "public_url = ngrok.connect(addr=\"8501\", proto=\"http\", bind_tls=True)\n",
        "print(f\"Streamlit 앱 공개 URL: {public_url.public_url}\")\n",
        "\n",
        "print(\"다음 단계로 진행합니다...\")\n"
      ],
      "metadata": {
        "id": "xDq1lU8KYRGP",
        "colab": {
          "base_uri": "https://localhost:8080/"
        },
        "outputId": "7be101bc-06ba-442f-cb07-003b156ec489"
      },
      "execution_count": 5,
      "outputs": [
        {
          "output_type": "stream",
          "name": "stdout",
          "text": [
            "Streamlit 앱 공개 URL: https://93a9-35-239-173-229.ngrok-free.app\n",
            "다음 단계로 진행합니다...\n"
          ]
        }
      ]
    },
    {
      "cell_type": "markdown",
      "source": [
        "# Streamlit 기본 문법 실습"
      ],
      "metadata": {
        "id": "i5ZkvQTaWzaB"
      }
    },
    {
      "cell_type": "code",
      "source": [
        "%%writefile app.py\n",
        "# 필요한 라이브러리를 가져옵니다.\n",
        "import streamlit as st\n",
        "import pandas as pd\n",
        "import numpy as np\n",
        "import matplotlib.pyplot as plt\n",
        "\n",
        "\n",
        "# Streamlit 앱의 제목을 설정합니다.\n",
        "st.title('Streamlit 기본 문법 실습')\n",
        "\n",
        "# 간단한 텍스트를 출력합니다.\n",
        "st.write('안녕하세요! 이것은 Streamlit 기본 문법 실습입니다.')"
      ],
      "metadata": {
        "colab": {
          "base_uri": "https://localhost:8080/"
        },
        "id": "3ZYZT0f2W3dJ",
        "outputId": "c8105f82-7a42-4052-fdd7-72effee2f7ea"
      },
      "execution_count": 6,
      "outputs": [
        {
          "output_type": "stream",
          "name": "stdout",
          "text": [
            "Overwriting app.py\n"
          ]
        }
      ]
    },
    {
      "cell_type": "code",
      "source": [
        "# writefile -a (append) 옵션은 기존 코드에 새로운 내용을 추가합니다.\n",
        "%%writefile -a app.py\n",
        "# 부제목을 추가합니다.\n",
        "st.header('1. 기본 입력 위젯')\n",
        "\n",
        "# 텍스트 입력 받기\n",
        "name = st.text_input('이름을 입력하세요')\n",
        "if name:\n",
        "    st.write(f'안녕하세요, {name}님!')"
      ],
      "metadata": {
        "colab": {
          "base_uri": "https://localhost:8080/"
        },
        "id": "GCDDVQkKXi7G",
        "outputId": "7b43f9aa-8ede-4581-a82c-a6deee63cd9c"
      },
      "execution_count": 7,
      "outputs": [
        {
          "output_type": "stream",
          "name": "stdout",
          "text": [
            "Appending to app.py\n"
          ]
        }
      ]
    },
    {
      "cell_type": "code",
      "source": [
        "%%writefile -a app.py\n",
        "# 선택박스 사용하기\n",
        "option = st.selectbox(\n",
        "    '좋아하는 색깔을 선택하세요',\n",
        "    ('빨강', '파랑', '초록', '노랑')\n",
        ")\n",
        "st.write(f'선택하신 색깔은 {option}입니다.')"
      ],
      "metadata": {
        "colab": {
          "base_uri": "https://localhost:8080/"
        },
        "id": "_Z9uTbJyZnVE",
        "outputId": "959a1cd1-ff75-4ea7-ab85-cf2200921476"
      },
      "execution_count": 8,
      "outputs": [
        {
          "output_type": "stream",
          "name": "stdout",
          "text": [
            "Appending to app.py\n"
          ]
        }
      ]
    },
    {
      "cell_type": "code",
      "source": [
        "%%writefile -a app.py\n",
        "# 슬라이더 사용하기\n",
        "value = st.slider('숫자를 선택하세요', 0, 100, 50)\n",
        "st.write(f'선택하신 숫자는 {value}입니다.')\n"
      ],
      "metadata": {
        "colab": {
          "base_uri": "https://localhost:8080/"
        },
        "id": "MZcas3QgaXfj",
        "outputId": "cc949385-7fbe-4bcd-93f3-2f14df1c34e7"
      },
      "execution_count": 9,
      "outputs": [
        {
          "output_type": "stream",
          "name": "stdout",
          "text": [
            "Appending to app.py\n"
          ]
        }
      ]
    },
    {
      "cell_type": "code",
      "source": [
        "%%writefile -a app.py\n",
        "# 새로운 섹션 시작\n",
        "st.header('2. 데이터 표시하기')\n",
        "\n",
        "# 샘플 데이터프레임 생성\n",
        "df = pd.DataFrame({\n",
        "    '이름': ['철수', '영희', '민수', '수진'],\n",
        "    '나이': [22, 25, 30, 28],\n",
        "    '도시': ['서울', '부산', '인천', '대전']\n",
        "})\n",
        "\n",
        "# 데이터프레임 표시\n",
        "st.subheader('데이터프레임 표시')\n",
        "st.dataframe(df)"
      ],
      "metadata": {
        "colab": {
          "base_uri": "https://localhost:8080/"
        },
        "id": "ZFSNn2LZaXWv",
        "outputId": "1ad9f4a2-7487-414b-c5e5-84795f63496d"
      },
      "execution_count": 10,
      "outputs": [
        {
          "output_type": "stream",
          "name": "stdout",
          "text": [
            "Appending to app.py\n"
          ]
        }
      ]
    },
    {
      "cell_type": "code",
      "source": [
        "%%writefile -a app.py\n",
        "# 테이블 형식으로 표시\n",
        "st.subheader('테이블 형식으로 표시')\n",
        "st.table(df)"
      ],
      "metadata": {
        "colab": {
          "base_uri": "https://localhost:8080/"
        },
        "id": "n_iogdrYaXOS",
        "outputId": "f3ffa8dd-4476-44dd-f2f7-367d71488f68"
      },
      "execution_count": 11,
      "outputs": [
        {
          "output_type": "stream",
          "name": "stdout",
          "text": [
            "Appending to app.py\n"
          ]
        }
      ]
    },
    {
      "cell_type": "code",
      "source": [
        "%%writefile -a app.py\n",
        "# 새로운 섹션 시작\n",
        "st.header('3. 차트 그리기')\n",
        "\n",
        "# 선 그래프 그리기\n",
        "st.subheader('선 그래프')\n",
        "chart_data = pd.DataFrame(np.random.randn(20, 3), columns=['A', 'B', 'C'])\n",
        "st.line_chart(chart_data)"
      ],
      "metadata": {
        "colab": {
          "base_uri": "https://localhost:8080/"
        },
        "id": "HQPswDubbAT2",
        "outputId": "8ca88125-a39a-478c-c415-6c2ad621fd23"
      },
      "execution_count": 12,
      "outputs": [
        {
          "output_type": "stream",
          "name": "stdout",
          "text": [
            "Appending to app.py\n"
          ]
        }
      ]
    },
    {
      "cell_type": "code",
      "source": [
        "%%writefile -a app.py\n",
        "# 막대 그래프 그리기\n",
        "st.subheader('막대 그래프')\n",
        "st.bar_chart(chart_data)"
      ],
      "metadata": {
        "colab": {
          "base_uri": "https://localhost:8080/"
        },
        "id": "7Ys-DZocbAIw",
        "outputId": "576ca5ce-a37e-468b-c2b7-ac3e937e4e80"
      },
      "execution_count": 13,
      "outputs": [
        {
          "output_type": "stream",
          "name": "stdout",
          "text": [
            "Appending to app.py\n"
          ]
        }
      ]
    },
    {
      "cell_type": "code",
      "source": [
        "%%writefile -a app.py\n",
        "# Matplotlib을 사용한 그래프 그리기\n",
        "st.subheader('Matplotlib을 사용한 그래프')\n",
        "fig, ax = plt.subplots()\n",
        "ax.scatter([1, 2, 3, 4, 5], [10, 5, 8, 9, 3])\n",
        "ax.set_xlabel('X')\n",
        "ax.set_ylabel('Y')\n",
        "st.pyplot(fig)"
      ],
      "metadata": {
        "colab": {
          "base_uri": "https://localhost:8080/"
        },
        "id": "GBstZzRAa_50",
        "outputId": "9d4c65f6-ccfd-4c77-e254-b1a28f6770dc"
      },
      "execution_count": 14,
      "outputs": [
        {
          "output_type": "stream",
          "name": "stdout",
          "text": [
            "Appending to app.py\n"
          ]
        }
      ]
    },
    {
      "cell_type": "code",
      "source": [
        "%%writefile -a app.py\n",
        "import plotly.graph_objects as go\n",
        "import plotly.express as px\n",
        "\n",
        "st.header('4. Plotly를 사용한 인터랙티브 차트 그리기')\n",
        "\n",
        "st.subheader('Plotly 소개')\n",
        "st.write(\"\"\"\n",
        "Plotly는 인터랙티브한 시각화를 만들기 위한 라이브러리입니다.\n",
        "주요 장점은 다음과 같습니다:\n",
        "1. 인터랙티브성: 확대/축소, 호버 정보 등 동적 기능 제공\n",
        "2. 다양한 차트 유형: 선 그래프, 산점도, 막대 그래프 등 다양한 유형 지원\n",
        "3. 사용자 정의: 레이아웃, 색상 등을 세밀하게 조정 가능\n",
        "4. 웹 친화적: JavaScript 기반으로 웹에서 잘 작동\n",
        "\"\"\")"
      ],
      "metadata": {
        "colab": {
          "base_uri": "https://localhost:8080/"
        },
        "id": "Qwv_BFWjaEI8",
        "outputId": "5debe56b-3d6b-4c3a-b27b-b465614217e0"
      },
      "execution_count": 15,
      "outputs": [
        {
          "output_type": "stream",
          "name": "stdout",
          "text": [
            "Appending to app.py\n"
          ]
        }
      ]
    },
    {
      "cell_type": "code",
      "source": [
        "%%writefile -a app.py\n",
        "st.subheader('Plotly Express를 사용한 차트')\n",
        "# 간단한 막대 그래프\n",
        "fig_express = px.bar(df, x='이름', y='나이', color='도시', title='도시별 나이 분포')\n",
        "st.plotly_chart(fig_express)\n",
        "\n",
        "# st.plotly_chart() 함수에 대한 설명\n",
        "st.info(\"\"\"\n",
        "`st.plotly_chart()`는 Plotly로 만든 그래프를 Streamlit 앱에 표시하는 함수입니다.\n",
        "이 함수를 사용하면 Plotly의 인터랙티브한 기능(확대/축소, 호버 등)을\n",
        "Streamlit 앱에서 그대로 사용할 수 있습니다.\n",
        "\"\"\")"
      ],
      "metadata": {
        "colab": {
          "base_uri": "https://localhost:8080/"
        },
        "id": "kbqc9pOManWh",
        "outputId": "cdc146e0-eaa0-496f-bf8c-7b0661bb1995"
      },
      "execution_count": 16,
      "outputs": [
        {
          "output_type": "stream",
          "name": "stdout",
          "text": [
            "Appending to app.py\n"
          ]
        }
      ]
    },
    {
      "cell_type": "code",
      "source": [
        "%%writefile -a app.py\n",
        "# 사이드바 사용하기\n",
        "st.sidebar.header('사이드바 예시')\n",
        "sidebar_slider = st.sidebar.slider('사이드바 슬라이더', 0, 10, 5)\n",
        "st.sidebar.write(f'사이드바 슬라이더 값: {sidebar_slider}')"
      ],
      "metadata": {
        "colab": {
          "base_uri": "https://localhost:8080/"
        },
        "id": "ngS93EDNdSZz",
        "outputId": "2ead1012-5371-41a8-9330-e956daf38cce"
      },
      "execution_count": 17,
      "outputs": [
        {
          "output_type": "stream",
          "name": "stdout",
          "text": [
            "Appending to app.py\n"
          ]
        }
      ]
    },
    {
      "cell_type": "code",
      "source": [
        "%%writefile -a app.py\n",
        "st.success('성공적으로 완료되었습니다.')\n",
        "st.error('에러가 발생했습니다.')\n",
        "st.warning('경고 메시지입니다.')\n",
        "st.info('정보 메시지입니다.')\n",
        "\n",
        "# 마무리 메시지\n",
        "st.success('축하합니다! Streamlit 기본 문법 실습을 완료하셨습니다.')"
      ],
      "metadata": {
        "colab": {
          "base_uri": "https://localhost:8080/"
        },
        "id": "I_tp8SiEdZeC",
        "outputId": "92f7f9a8-c3d1-4ec1-f288-93ba72da5713"
      },
      "execution_count": null,
      "outputs": [
        {
          "output_type": "stream",
          "name": "stdout",
          "text": [
            "Appending to app.py\n"
          ]
        }
      ]
    },
    {
      "cell_type": "markdown",
      "source": [
        "# 가상 자료 생성하여 기본 대시보드 만들기"
      ],
      "metadata": {
        "id": "H6vYrgRD7f0W"
      }
    },
    {
      "cell_type": "code",
      "execution_count": 20,
      "metadata": {
        "id": "h--jD70kQNCm",
        "colab": {
          "base_uri": "https://localhost:8080/"
        },
        "outputId": "95bbe8e2-f8ac-4464-ebf6-a8673fe75ab8"
      },
      "outputs": [
        {
          "output_type": "stream",
          "name": "stdout",
          "text": [
            "Overwriting app.py\n"
          ]
        }
      ],
      "source": [
        "# 이제 가상 자료를 만들어서 기본적인 대시보드를 만들어봅시다.\n",
        "# %%writefile 매직 명령어를 사용해 app.py 파일을 다음 내용으로 변경합니다.\n",
        "\n",
        "%%writefile app.py\n",
        "# 필요한 라이브러리들을 임포트합니다.\n",
        "import streamlit as st  # 웹 앱 생성을 위한 라이브러리\n",
        "import pandas as pd  # 데이터 처리를 위한 라이브러리\n",
        "import numpy as np  # 수치 연산을 위한 라이브러리\n",
        "import plotly.express as px  # 인터랙티브 그래프 생성을 위한 라이브러리\n",
        "\n",
        "# 가상의 환자 데이터를 생성하는 함수를 정의합니다.\n",
        "def generate_patient_data(days=30):\n",
        "    # 현재 날짜부터 30일 전까지의 날짜 범위를 생성합니다.\n",
        "    date_range = pd.date_range(end=pd.Timestamp.now(), periods=days)\n",
        "\n",
        "    # 크레아티닌 수치를 랜덤하게 생성합니다. cumsum()을 사용해 시간에 따른 변화를 표현합니다.\n",
        "    creatinine = np.random.normal(1.0, 0.2, days).cumsum() + 0.8\n",
        "\n",
        "    # 소변량과 혈압 데이터를 랜덤하게 생성합니다.\n",
        "    urine_output = np.random.normal(1500, 300, days)\n",
        "    blood_pressure = np.random.normal(120, 10, days)\n",
        "\n",
        "    # 생성된 데이터를 DataFrame으로 만들어 반환합니다.\n",
        "    return pd.DataFrame({\n",
        "        'Date': date_range,\n",
        "        'Creatinine': creatinine,\n",
        "        'Urine Output': urine_output,\n",
        "        'Blood Pressure': blood_pressure\n",
        "    })\n",
        "\n",
        "# Streamlit 페이지의 기본 설정을 합니다.\n",
        "st.set_page_config(page_title=\"AKI 예측 대시보드\", layout=\"wide\")\n",
        "\n",
        "# 페이지 제목을 설정합니다.\n",
        "st.title('AKI 예측 대시보드')\n",
        "\n",
        "# 대시보드에 대한 간단한 설명을 추가합니다.\n",
        "st.write('이 대시보드는 환자의 AKI(급성 신장 손상) 위험을 모니터링하고 예측하는 데 사용됩니다.')\n",
        "\n",
        "# 사이드바에 환자 ID 선택 옵션을 추가합니다.\n",
        "patient_id = st.sidebar.selectbox('환자 ID 선택', ['001', '002', '003'])\n",
        "\n",
        "# 선택된 환자의 데이터를 생성합니다.\n",
        "data = generate_patient_data()\n",
        "\n",
        "# 페이지를 3개의 열로 나눕니다.\n",
        "col1, col2, col3 = st.columns(3)\n",
        "\n",
        "# 첫 번째 열에 크레아티닌 수치 그래프를 표시합니다.\n",
        "with col1:\n",
        "    st.subheader('크레아티닌 수치')\n",
        "    fig = px.line(data, x='Date', y='Creatinine')\n",
        "    st.plotly_chart(fig, use_container_width=True)\n",
        "\n",
        "# 두 번째 열에 소변량 그래프를 표시합니다.\n",
        "with col2:\n",
        "    st.subheader('소변량')\n",
        "    fig = px.line(data, x='Date', y='Urine Output')\n",
        "    st.plotly_chart(fig, use_container_width=True)\n",
        "\n",
        "# 세 번째 열에 혈압 그래프를 표시합니다.\n",
        "with col3:\n",
        "    st.subheader('혈압')\n",
        "    fig = px.line(data, x='Date', y='Blood Pressure')\n",
        "    st.plotly_chart(fig, use_container_width=True)\n",
        "\n",
        "# AKI 위험도를 계산하고 표시합니다 (여기서는 랜덤 값을 사용).\n",
        "risk_score = np.random.uniform(0, 100)\n",
        "st.subheader('AKI 위험도')\n",
        "# 프로그레스 바로 위험도를 시각화합니다. 0-100의 값을 0-1 범위로 변환\n",
        "st.progress(risk_score / 100)\n",
        "st.write(f'현재 AKI 위험도: {risk_score:.1f}%')\n"
      ]
    },
    {
      "cell_type": "markdown",
      "source": [
        "# 데이터 이용하여 대시보드 만들기"
      ],
      "metadata": {
        "id": "ssBUtyBRM1BL"
      }
    },
    {
      "cell_type": "code",
      "source": [
        "# 자료 가져오기\n",
        "!gdown https://drive.google.com/uc?id=16hFm9U2akHmkbu-yYil_hqpijFqRSiPI\n",
        "!gdown https://drive.google.com/uc?id=18ZDwVoDgQOalswXJ2YprJbmXdoeCgCK-\n",
        "!gdown https://drive.google.com/uc?id=1EwFhPVKiWkcps1hsfjCxvaahD9-fq6pL"
      ],
      "metadata": {
        "colab": {
          "base_uri": "https://localhost:8080/"
        },
        "id": "TFSFpEIqGBNT",
        "outputId": "72c65de2-71c1-407e-d060-d0e4837e043d"
      },
      "execution_count": 19,
      "outputs": [
        {
          "output_type": "stream",
          "name": "stdout",
          "text": [
            "Downloading...\n",
            "From: https://drive.google.com/uc?id=16hFm9U2akHmkbu-yYil_hqpijFqRSiPI\n",
            "To: /content/AKI_prediction_patient.csv\n",
            "100% 16.3k/16.3k [00:00<00:00, 41.3MB/s]\n",
            "Downloading...\n",
            "From: https://drive.google.com/uc?id=18ZDwVoDgQOalswXJ2YprJbmXdoeCgCK-\n",
            "To: /content/AKI_prediction_lrp_static.csv\n",
            "100% 4.38k/4.38k [00:00<00:00, 14.4MB/s]\n",
            "Downloading...\n",
            "From: https://drive.google.com/uc?id=1EwFhPVKiWkcps1hsfjCxvaahD9-fq6pL\n",
            "To: /content/AKI_prediction_lrp_dynamic.csv\n",
            "100% 9.82k/9.82k [00:00<00:00, 26.9MB/s]\n"
          ]
        }
      ]
    },
    {
      "cell_type": "markdown",
      "source": [
        "## 1단계 레이아웃 설정, 데이터 로드, 기본 정보 표시하기"
      ],
      "metadata": {
        "id": "PEJlcA4YGJLn"
      }
    },
    {
      "cell_type": "code",
      "execution_count": 21,
      "metadata": {
        "id": "EOT4V4LNRWpw",
        "colab": {
          "base_uri": "https://localhost:8080/"
        },
        "collapsed": true,
        "outputId": "927a481b-38b0-49b0-d408-0afcb0d4d1e8"
      },
      "outputs": [
        {
          "output_type": "stream",
          "name": "stdout",
          "text": [
            "Overwriting app.py\n"
          ]
        }
      ],
      "source": [
        "# 기존 내용 대신 아래 내용으로 대체합니다.\n",
        "%%writefile app.py\n",
        "\n",
        "# 필요한 라이브러리들을 가져옵니다.\n",
        "import streamlit as st  # 웹 애플리케이션 생성을 위한 라이브러리\n",
        "import pandas as pd  # 데이터 처리를 위한 라이브러리\n",
        "import numpy as np  # 수치 계산을 위한 라이브러리\n",
        "import matplotlib.pyplot as plt  # 그래프 생성을 위한 라이브러리\n",
        "import seaborn as sns  # 통계적 데이터 시각화를 위한 라이브러리\n",
        "import plotly.graph_objs as go  # 인터랙티브 그래프 생성을 위한 라이브러리\n",
        "from plotly.subplots import make_subplots  # 여러 개의 서브플롯 생성을 위한 함수\n",
        "\n",
        "\n",
        "# 기저질환 이름을 한글로 매핑하는 딕셔너리입니다.\n",
        "disease_mapping = {\n",
        "    \"diabetes\": \"당뇨\",\n",
        "    \"htn\": \"고혈압\",\n",
        "    \"chf\": \"울혈성 심부전\",\n",
        "    \"cvd\": \"심혈관 질환\",\n",
        "    \"pulmonary_disease\": \"폐 질환\",\n",
        "    \"liver_disease\": \"간 질환\",\n",
        "    \"cancer\": \"암\",\n",
        "    \"cci\": \"동반질환지수\",\n",
        "    \"aki\": \"급성 신손상\",\n",
        "    \"ami\": \"급성 심근경색\",\n",
        "    \"dementia\": \"치매\",\n",
        "    \"diabetic_complication\": \"당뇨 합병증\",\n",
        "    \"metastatic_cancer\": \"전이성 암\",\n",
        "    \"paraplegia\": \"하반신 마비\",\n",
        "    \"peptic_ulcer\": \"소화성 궤양\",\n",
        "    \"pulmonary_disease\": \"폐 질환\",\n",
        "    \"pvd\": \"말초혈관질환\",\n",
        "    \"renal_disease\": \"신장 질환\",\n",
        "    \"severe_liver_disease\": \"중증 간 질환\"\n",
        "}\n",
        "\n",
        "# Streamlit 페이지 설정\n",
        "st.set_page_config(layout=\"wide\", page_title=\"AKI 위험도 예측 대시보드\")\n",
        "\n",
        "# 데이터 로드 및 전처리\n",
        "@st.cache_data # 이 데코레이터는 함수의 결과를 캐시하여 성능을 향상시킵니다.\n",
        "def load_data():\n",
        "    # CSV 파일에서 데이터를 읽어옵니다.\n",
        "    patient_data = pd.read_csv('AKI_prediction_patient.csv')\n",
        "    lrp_dynamic = pd.read_csv('AKI_prediction_lrp_dynamic.csv')\n",
        "    lrp_static = pd.read_csv('AKI_prediction_lrp_static.csv')\n",
        "    return patient_data, lrp_dynamic, lrp_static\n",
        "\n",
        "\n",
        "# 데이터 로드\n",
        "patient_data, lrp_dynamic, lrp_static = load_data()\n",
        "\n",
        "# 메인 페이지\n",
        "st.title(\"AKI 위험도 예측 대시보드\")\n",
        "# 환자 선택\n",
        "st.sidebar.title(\"환자 선택\")\n",
        "patient_id = st.sidebar.selectbox(\"환자 ID 선택\", patient_data['p_id'].unique())\n",
        "\n",
        "# 선택된 환자 데이터 로드\n",
        "patient = patient_data[patient_data['p_id'] == patient_id].iloc[0]\n",
        "view_day = patient['view_day'] # 환자 입원 후 며칠 째에 예측을 하는지\n",
        "\n",
        "\n",
        "# 대시보드의 각 섹션을 정의합니다.\n",
        "sections = {\n",
        "    \"기본 정보\": [\"age\", \"sex\", \"bmi\", 'b_cr','dept_en', 'icu'],\n",
        "    \"기저질환\": [col for col in patient.index if col in disease_mapping],\n",
        "    \"검사 결과\": [\"creatinine\", \"bun\", \"sodium\", \"potassium\", \"chloride\", \"glucose\", \"albumin\"],\n",
        "    \"Vital Signs\": [\"sbp\", \"dbp\", \"bt\"],\n",
        "    \"약품 처방\": [\"약품 처방\"]  # 이 섹션은 특별히 처리됩니다\n",
        "}\n",
        "\n",
        "# 사이드바에서 섹션 순서를 선택할 수 있게 합니다.\n",
        "section_order = st.sidebar.multiselect(\n",
        "    \"섹션 순서 선택\",\n",
        "    list(sections.keys()),\n",
        "    default=list(sections.keys())\n",
        ")\n",
        "\n",
        "# 환자의 기본 정보를 표시하는 함수\n",
        "def display_basic_info(patient):\n",
        "    col1, col2, col3, col4, col5, col6 = st.columns(6)\n",
        "    col1.metric(\"나이\", f\"{patient['age']:.0f}\")\n",
        "    col2.metric(\"성별\", (\"남성\" if patient['sex'] == 1 else \"여성\"))\n",
        "    col3.metric(\"BMI\", f\"{patient['bmi']:.1f}\")\n",
        "    col4.metric(\"기저 크레아티닌\", f\"{patient['b_cr']:.1f}\")\n",
        "    col5.metric(\"진료과\", patient['dept_en'])\n",
        "    col6.metric(\"중환자실\", (\"O\" if patient['icu'] == 1 else \"x\"))\n",
        "\n",
        "# 기본 정보 표시\n",
        "st.subheader(\"기본 정보\")\n",
        "display_basic_info(patient)\n"
      ]
    },
    {
      "cell_type": "markdown",
      "source": [
        "## 2단계 기저질환"
      ],
      "metadata": {
        "id": "9WAmq6I8NWHO"
      }
    },
    {
      "cell_type": "code",
      "source": [
        "# 2단계 기저질환을 나타내 봅시다\n",
        "# writefile -a (append) 옵션은 기존 코드에 새로운 내용을 추가합니다.\n",
        "%%writefile -a app.py\n",
        "# 환자의 기저질환을 표시하는 함수\n",
        "def display_comorbidities(patient):\n",
        "    comorbidities = [col for col in patient.index if col in disease_mapping]\n",
        "    cols = st.columns(3)\n",
        "    for i, disease in enumerate(comorbidities):\n",
        "        #  각 기저질환의 이름을 굵게 표시하고, 환자가 해당 질병을 가지고 있으면 (즉, data 값이 1) 체크 표시를 추가합니다\n",
        "        display_text = f\"**{disease_mapping[disease]}**: \" + (\":white_check_mark:\" if patient[disease] == 1 else \"\")\n",
        "        cols[i % 3].markdown(display_text)\n",
        "\n",
        "# 기저질환 표시\n",
        "st.subheader(\"기저질환\")\n",
        "display_comorbidities(patient)"
      ],
      "metadata": {
        "id": "P5vBGLn6uReV",
        "colab": {
          "base_uri": "https://localhost:8080/"
        },
        "outputId": "6a0e105a-29a1-4252-9fcf-3f7b045815dd"
      },
      "execution_count": 22,
      "outputs": [
        {
          "output_type": "stream",
          "name": "stdout",
          "text": [
            "Appending to app.py\n"
          ]
        }
      ]
    },
    {
      "cell_type": "markdown",
      "source": [
        "## 3단계 검사결과"
      ],
      "metadata": {
        "id": "TtSzjamjNf11"
      }
    },
    {
      "cell_type": "code",
      "source": [
        "# writefile -a (append) 옵션은 기존 코드에 새로운 내용을 추가합니다.\n",
        "%%writefile -a app.py\n",
        "\n",
        "# 3단계: 입원기간 1일~7일 중 검사결과의 변화를 그래프로 그려봅시다.\n",
        "def plot_lab_results(patient, lab_tests):\n",
        "    # 그래프 레이아웃 설정\n",
        "    cols = 3  # 열의 수\n",
        "    rows = (len(lab_tests) + cols - 1) // cols  # 행의 수 계산 (올림 나눗셈)\n",
        "\n",
        "    # 서브플롯 생성\n",
        "    fig = make_subplots(rows=rows, cols=cols, subplot_titles=lab_tests)\n",
        "\n",
        "    # 각 검사 항목에 대해 반복\n",
        "    for i, test in enumerate(lab_tests):\n",
        "        # 현재 검사 항목의 위치(행, 열) 계산\n",
        "        row = i // cols + 1\n",
        "        col = i % cols + 1\n",
        "\n",
        "        data = []\n",
        "        # 7일 동안의 데이터 처리\n",
        "        for day in range(1, 8):\n",
        "            for time in range(1, 4):  # 하루를 3개의 시간대로 나누어 해당 시간대 평균값을 포함한 자료\n",
        "                col_name = f'd{day}_{time}_{test}'\n",
        "\n",
        "                # 데이터 유효성 검사: 컬럼이 존재하고 값이 유효한 경우만 처리\n",
        "                if col_name in patient.index and pd.notna(patient[col_name]):\n",
        "                    x = day + (time - 1) / 3  # x축 값 계산 (날짜 + 시간 조정)\n",
        "                    data.append((x, patient[col_name], day, time))\n",
        "\n",
        "        # 데이터가 있는 경우에만 그래프 생성\n",
        "        if data:\n",
        "            # 데이터 언패킹\n",
        "            x, y, days, times = zip(*data)\n",
        "\n",
        "            # 시간 범위 문자열 생성 (예: \"0-8\", \"8-16\", \"16-24\")\n",
        "            time_ranges = [f\"{(t - 1) * 8}-{t * 8}\" for t in times]\n",
        "\n",
        "            # 마커 스타일 설정\n",
        "            marker_symbol = 'circle'\n",
        "            marker_size = 10\n",
        "\n",
        "            fig.add_trace(go.Scatter(\n",
        "                x=x,\n",
        "                y=y,\n",
        "                mode='lines+markers',\n",
        "                name=test,\n",
        "                marker=dict(symbol=marker_symbol, size=marker_size),\n",
        "                hovertemplate=\"Day: %{customdata[0]}<br>Time: %{customdata[1]}<br>Value: %{y:.2f}\",\n",
        "                customdata=list(zip(days, time_ranges))\n",
        "            ), row=row, col=col)\n",
        "\n",
        "        fig.update_xaxes(title_text=\"입원 후 일수\", range=[0.8, 7.2], dtick=1, row=row, col=col)\n",
        "        fig.update_yaxes(title_text=test, row=row, col=col)\n",
        "\n",
        "    fig.update_layout(height=300 * rows, showlegend=False, title_text=\"검사 결과\")\n",
        "    return fig  # 완성된 그래프 반환\n",
        "\n",
        "# 생체 징후  표시\n",
        "section = \"검사 결과\"\n",
        "st.subheader(section)\n",
        "st.plotly_chart(plot_lab_results(patient, sections[section]))\n"
      ],
      "metadata": {
        "id": "bFizlQp182nP",
        "colab": {
          "base_uri": "https://localhost:8080/"
        },
        "outputId": "55cddee5-8ed0-4ff6-fd10-7ed28b696d0c"
      },
      "execution_count": 23,
      "outputs": [
        {
          "output_type": "stream",
          "name": "stdout",
          "text": [
            "Appending to app.py\n"
          ]
        }
      ]
    },
    {
      "cell_type": "markdown",
      "source": [
        "## 4단계 생체징후 추가\n",
        "- SBP 수축기 혈압, DBP 이완기 혈압, BT 체온, PR 맥박\n",
        "- 생체징후 자료는 시간대별로 최소값(min), 평균값(avg), 최대값(max)을 모두 갖고 있습니다. 평균값을 점으로, 최소와 최대를 범위로 나타내봅시다."
      ],
      "metadata": {
        "id": "i0aJjfLePINj"
      }
    },
    {
      "cell_type": "code",
      "source": [
        "# writefile -a (append) 옵션은 기존 코드에 새로운 내용을 추가합니다.\n",
        "%%writefile -a app.py\n",
        "\n",
        "def plot_vital_signs(patient, vital_signs):\n",
        "    # 그래프 레이아웃 설정\n",
        "    cols = 3  # 열의 수\n",
        "    rows = (len(vital_signs) + cols - 1) // cols  # 행의 수 계산 (올림 나눗셈)\n",
        "    fig = make_subplots(rows=rows, cols=cols, subplot_titles=vital_signs)\n",
        "\n",
        "    # 각 생체징후에 대해 반복\n",
        "    for i, vital in enumerate(vital_signs):\n",
        "        # 현재 생체징후의 위치(행, 열) 계산\n",
        "        row = i // cols + 1\n",
        "        col = i % cols + 1\n",
        "\n",
        "        data = []\n",
        "        # 7일 동안의 데이터 처리\n",
        "        for day in range(1, 8):\n",
        "            for time in range(1, 4):  # 하루 3번 측정\n",
        "                # 평균, 최소, 최대값 컬럼 이름 생성\n",
        "                avg_col = f'd{day}_{time}_{vital}_avg'\n",
        "                min_col = f'd{day}_{time}_{vital}_min'\n",
        "                max_col = f'd{day}_{time}_{vital}_max'\n",
        "\n",
        "                # 모든 필요한 컬럼이 존재하는지 확인\n",
        "                if all(col in patient.index for col in [avg_col, min_col, max_col]):\n",
        "                    try:\n",
        "                        # 평균값이 유효한 경우에만 데이터 추가\n",
        "                        if pd.notna(patient[avg_col]):\n",
        "                            x = day + (time - 1) / 3  # x축 값 계산 (날짜 + 시간 조정)\n",
        "                            data.append((x, patient[avg_col], patient[min_col], patient[max_col], day, time))\n",
        "                    except:\n",
        "                        # 에러 발생 시 디버깅을 위한 출력\n",
        "                        print(avg_col, patient[avg_col])\n",
        "\n",
        "        # 데이터가 있는 경우에만 그래프 생성\n",
        "        if data:\n",
        "            # 데이터 언패킹\n",
        "            x, y_avg, y_min, y_max, days, times = zip(*data)\n",
        "            # 시간 범위 문자열 생성 (예: \"0-8\", \"8-16\", \"16-24\")\n",
        "            time_ranges = [f\"{(t - 1) * 8}-{t * 8}\" for t in times]\n",
        "\n",
        "            # 마커 스타일 설정\n",
        "            marker_symbol = 'circle'\n",
        "            marker_size = 10\n",
        "\n",
        "            # 평균값 그래프 추가\n",
        "            fig.add_trace(go.Scatter(\n",
        "                x=x,\n",
        "                y=y_avg,\n",
        "                mode='lines+markers',  # 선과 점을 함께 표시\n",
        "                name=f'{vital}_avg',\n",
        "                hovertemplate=\"Avg: %{y:.2f}<br>Min: %{customdata[2]:.2f}<br>Max: %{customdata[3]:.2f}<br>Day: %{customdata[0]}<br>Time: %{customdata[1]}\",\n",
        "                customdata=list(zip(days, time_ranges, y_min, y_max)),\n",
        "                marker=dict(symbol=marker_symbol, size=marker_size)\n",
        "            ), row=row, col=col)\n",
        "\n",
        "            # 최소값 그래프 추가\n",
        "            fig.add_trace(go.Scatter(\n",
        "                x=x,\n",
        "                y=y_min,\n",
        "                fill=None,\n",
        "                mode='lines',\n",
        "                line_color='rgba(0,100,80,0.2)',\n",
        "                name=f'{vital}_min',\n",
        "                showlegend=False,\n",
        "                hoverinfo='skip'\n",
        "            ), row=row, col=col)\n",
        "\n",
        "            # 최대값 그래프 추가 (영역 채우기)\n",
        "            fig.add_trace(go.Scatter(\n",
        "                x=x,\n",
        "                y=y_max,\n",
        "                fill='tonexty',  # 이전 트레이스와의 영역을 채움\n",
        "                mode='lines',\n",
        "                line_color='rgba(0,100,80,0.2)',\n",
        "                name=f'{vital}_max',\n",
        "                showlegend=False,\n",
        "                hoverinfo='skip'\n",
        "            ), row=row, col=col)\n",
        "\n",
        "        # x축 설정\n",
        "        fig.update_xaxes(title_text=\"입원 후 일수\", range=[0.8, 7.2], dtick=1, row=row, col=col)\n",
        "        # y축 설정\n",
        "        fig.update_yaxes(title_text=vital, row=row, col=col)\n",
        "\n",
        "    # 전체 레이아웃 설정\n",
        "    fig.update_layout(height=300 * rows, showlegend=False, title_text=\"Vital Signs\")\n",
        "    return fig  # 완성된 그래프 반환\n",
        "\n",
        "# 생체 징후  표시\n",
        "section = \"Vital Signs\"\n",
        "st.subheader(section)\n",
        "st.plotly_chart(plot_vital_signs(patient, sections[section]))"
      ],
      "metadata": {
        "id": "Thg2NgjtPGgH",
        "colab": {
          "base_uri": "https://localhost:8080/"
        },
        "outputId": "9ad5944b-e833-4b42-f3ef-9e1ef9f5482f"
      },
      "execution_count": 24,
      "outputs": [
        {
          "output_type": "stream",
          "name": "stdout",
          "text": [
            "Appending to app.py\n"
          ]
        }
      ]
    },
    {
      "cell_type": "markdown",
      "source": [
        "## 5단계 약품 처방\n",
        "- 약품 처방은 주로 신장 기능에 악영향을 줄 수 있는 약품 처방를 나타낸 자료입니다. 입원 전 6개월 이내, 그리고 입원 중 매일매일 약품 처방이 있었는지에 대한 자료이며, 각 항목의 값이 1일 경우 처방이 있었다는 의미입니다.\n",
        "- 날짜별로 자료를 나타내되, 단순히 처방 여부만을 나타내기에 그래프를 단순화하여 x축을 입원 후 일수, y축을 각 약품의 이름으로 나타내 주기로 합니다."
      ],
      "metadata": {
        "id": "2mtFJOMsRAPk"
      }
    },
    {
      "cell_type": "code",
      "source": [
        "# writefile -a (append) 옵션은 기존 코드에 새로운 내용을 추가합니다.\n",
        "%%writefile -a app.py\n",
        "\n",
        "## 5단계 약품 처방\n",
        "# 이 함수는 환자의 약품 처방 정보를 시각화합니다.\n",
        "# 신장 기능에 악영향을 줄 수 있는 약품 처방에 중점을 둡니다.\n",
        "\n",
        "def plot_medications(patient):\n",
        "    # 입원 전 6개월 동안의 약품 처방 컬럼 찾기\n",
        "    pre6m_cols = [col for col in patient.index if col.startswith(\"pre6m_\")]\n",
        "\n",
        "    # 입원 중 약품 처방 컬럼 생성 (1일차부터 7일차까지)\n",
        "    inpatient_cols = [f\"d{day}_{col.replace('pre6m_', '')}\" for col in pre6m_cols for day in range(1, 8)]\n",
        "\n",
        "    # 모든 약품 이름 추출\n",
        "    all_meds = [col.replace('pre6m_', '') for col in pre6m_cols]\n",
        "\n",
        "    # 두 개의 서브플롯 생성 (입원 전, 입원 중)\n",
        "    fig = make_subplots(rows=1, cols=2, subplot_titles=(\"입원 전 6개월 약품 처방\", \"입원 중 약품 처방\"),\n",
        "                        column_widths=[0.3, 0.7], shared_yaxes=True)\n",
        "\n",
        "    # 입원 전 6개월 약품 처방 그래프\n",
        "    for i, med in enumerate(all_meds):\n",
        "        if patient.get(f'pre6m_{med}', 0) == 1:  # 약품이 처방된 경우\n",
        "            fig.add_trace(go.Scatter(\n",
        "                x=[0], y=[i],\n",
        "                mode='markers',\n",
        "                name=med,\n",
        "                marker=dict(size=10),\n",
        "                hovertemplate=f\"{med}: 처방됨\",\n",
        "                showlegend=False\n",
        "            ), row=1, col=1)\n",
        "\n",
        "    # 입원 중 약품 처방 그래프\n",
        "    for i, med in enumerate(all_meds):\n",
        "        x_vals = []\n",
        "        for day in range(1, 8):\n",
        "            col_name = f'd{day}_{med}'\n",
        "            if (col_name in patient.index) and (patient[col_name] == 1):  # 해당 일에 약품이 처방된 경우\n",
        "                x_vals.append(day)\n",
        "        if x_vals:\n",
        "            fig.add_trace(go.Scatter(\n",
        "                x=x_vals, y=[i] * len(x_vals),\n",
        "                mode='markers',\n",
        "                name=med,\n",
        "                marker=dict(size=10),\n",
        "                hovertemplate=f\"{med}: %{{x}}일차\",\n",
        "                showlegend=False\n",
        "            ), row=1, col=2)\n",
        "\n",
        "    # 그래프 레이아웃 설정\n",
        "    fig.update_layout(\n",
        "        title=\"약품 처방\",\n",
        "        height=max(400, 30 * len(all_meds)),  # 약품 수에 따라 그래프 높이 조정\n",
        "        hovermode=\"closest\"\n",
        "    )\n",
        "\n",
        "    # x축 설정\n",
        "    fig.update_xaxes(title_text=\"\", range=[-0.5, 0.5], dtick=1, showticklabels=False, row=1, col=1)  # 입원 전\n",
        "    fig.update_xaxes(title_text=\"입원 후 일수\", range=[0.8, 7.2], dtick=1, row=1, col=2)  # 입원 중\n",
        "\n",
        "    # y축 설정 (약품 이름)\n",
        "    fig.update_yaxes(\n",
        "        tickmode='array',\n",
        "        tickvals=list(range(len(all_meds))),\n",
        "        ticktext=all_meds,\n",
        "        title=\"약품\",\n",
        "        range=[-1, len(all_meds)],\n",
        "        row=1, col=1\n",
        "    )\n",
        "    fig.update_yaxes(\n",
        "        tickmode='array',\n",
        "        tickvals=list(range(len(all_meds))),\n",
        "        ticktext=all_meds,\n",
        "        title=\"\",\n",
        "        range=[-1, len(all_meds)],\n",
        "        row=1, col=2\n",
        "    )\n",
        "\n",
        "    # 처방이 없는 경우에도 그래프 영역 표시 (빈 마커 추가)\n",
        "    fig.add_trace(go.Scatter(x=[None], y=[None], mode='markers', marker=dict(opacity=0), showlegend=False), row=1, col=1)\n",
        "    fig.add_trace(go.Scatter(x=[None], y=[None], mode='markers', marker=dict(opacity=0), showlegend=False), row=1, col=2)\n",
        "\n",
        "    return fig  # 완성된 그래프 반환\n",
        "\n",
        "# 약품 처방  표시\n",
        "section = \"약품 처방\"\n",
        "st.subheader(section)\n",
        "st.plotly_chart(plot_medications(patient))"
      ],
      "metadata": {
        "id": "JZpJHPWxSBpu",
        "colab": {
          "base_uri": "https://localhost:8080/"
        },
        "outputId": "f035f45f-b87f-42fc-9a32-ea4ef85d82cf"
      },
      "execution_count": 25,
      "outputs": [
        {
          "output_type": "stream",
          "name": "stdout",
          "text": [
            "Appending to app.py\n"
          ]
        }
      ]
    },
    {
      "cell_type": "code",
      "source": [],
      "metadata": {
        "id": "Q0aRxTB8sngL"
      },
      "execution_count": null,
      "outputs": []
    },
    {
      "cell_type": "markdown",
      "source": [
        "## 6단계 주요 변수 나타내기\n",
        "- 모델이 어떤 변수를 중요하게 생각했는지 추정한 값을 나타내봅시다."
      ],
      "metadata": {
        "id": "z0vmNCNQTuPk"
      }
    },
    {
      "cell_type": "code",
      "source": [
        "%%writefile -a app.py\n",
        "\n",
        "# 아래 두 함수는 lrp 결과 자료의 컬럼 일자를 변경하는 함수입니다.\n",
        "# 이 모델은 판단 시점 이전의 48시간 자료만을 사용했기 때문에,\n",
        "# 일자를 나타내는 컬럼값을 모두 현 시점 2일 전일 경우 1일차 (d1), 1일 전일 경우 2일차 (d2)로 표기하였습니다.\n",
        "# 이렇게 바뀐 일자에 대한 자료를 원래 데이터 상의 자료와 일치하도록 이름을 바꾸어주는 작업을 먼저 합니다.\n",
        "def adjust_day(day, view_day):\n",
        "    return view_day - 3 + int(day[1])\n",
        "\n",
        "def adjust_feature_names(data, view_day):\n",
        "    adjusted_data = data.copy()\n",
        "    for col in data.columns:\n",
        "        parts = col.split('_')\n",
        "        if parts[0] == 'd1' or parts[0] =='d2':\n",
        "            day = int(parts[0][1])\n",
        "            adjusted_day = adjust_day(f'd{day}', view_day)\n",
        "            new_col = f'd{adjusted_day}_' + '_'.join(parts[1:])\n",
        "            adjusted_data = adjusted_data.rename(columns={col: new_col})\n",
        "    return adjusted_data\n",
        "\n",
        "\n",
        "# LRP 값이 가장 높은 10개의 변수를 각각 뽑아봅시다.\n",
        "def get_top_features(lrp_static, lrp_dynamic, n=10):\n",
        "    static_top = lrp_static.nlargest(n).index.tolist()\n",
        "    dynamic_top = lrp_dynamic.nlargest(n).index.tolist()\n",
        "    return static_top, dynamic_top\n",
        "\n",
        "def plot_lrp_importance(lrp_static_patient, lrp_dynamic_patient):\n",
        "    \"\"\"\n",
        "    LRP(Layer-wise Relevance Propagation) 중요도를 시각화하는 함수입니다.\n",
        "\n",
        "    매개변수:\n",
        "    lrp_static_patient : 정적 특성의 LRP 값\n",
        "    lrp_dynamic_patient : 동적 특성의 LRP 값\n",
        "\n",
        "    반환값:\n",
        "    fig : matplotlib Figure 객체\n",
        "    \"\"\"\n",
        "    # 색상 팔레트 생성\n",
        "    colors = plt.cm.viridis(np.linspace(0, 1, 10))\n",
        "\n",
        "    # 그래프 생성 (1행 2열의 서브플롯)\n",
        "    fig, (ax1, ax2) = plt.subplots(1, 2, figsize=(20, 8))\n",
        "\n",
        "    # 정적 특성 시각화\n",
        "    top_static_features = lrp_static_patient.sort_values(ascending=False).head(10)\n",
        "    sns.barplot(x=top_static_features.values, y=top_static_features.index, ax=ax1, palette=colors)\n",
        "    ax1.set_title('Top 10 Static Features (LRP)')\n",
        "    ax1.set_xlabel('Feature importance')\n",
        "\n",
        "    # 동적 특성 시각화\n",
        "    top_dynamic_features = lrp_dynamic_patient.sort_values(ascending=False).head(10)\n",
        "    sns.barplot(x=top_dynamic_features.values, y=top_dynamic_features.index, ax=ax2, palette=colors)\n",
        "    ax2.set_title('Top 10 Dynamic Features (LRP)')\n",
        "    ax2.set_xlabel('Feature importance')\n",
        "\n",
        "    # 전체 레이아웃 조정\n",
        "    plt.tight_layout()\n",
        "\n",
        "    return fig\n",
        "\n",
        "# LRP 데이터 로드 및 조정\n",
        "lrp_static_patient = lrp_static[lrp_static['p_id'] == patient_id].drop('p_id', axis=1).iloc[0]\n",
        "lrp_dynamic_patient = lrp_dynamic[lrp_dynamic['p_id'] == patient_id].drop('p_id', axis=1).iloc[0]\n",
        "\n",
        "lrp_static_patient = adjust_feature_names(pd.DataFrame(lrp_static_patient).T, view_day).iloc[0]\n",
        "lrp_dynamic_patient = adjust_feature_names(pd.DataFrame(lrp_dynamic_patient).T, view_day).iloc[0]\n",
        "\n",
        "\n",
        "# 주요 특성 추출\n",
        "static_top, dynamic_top = get_top_features(lrp_static_patient, lrp_dynamic_patient)\n",
        "top_features = static_top + dynamic_top\n",
        "\n",
        "\n",
        "\n",
        "# 주요 변수 시각화\n",
        "st.subheader(\"모델 주요 변수\")\n",
        "st.pyplot(plot_lrp_importance(lrp_static_patient, lrp_dynamic_patient))\n",
        "\n"
      ],
      "metadata": {
        "id": "NVinL2CmTtxg",
        "colab": {
          "base_uri": "https://localhost:8080/"
        },
        "outputId": "3bcebfb6-2ba9-4a6c-f19b-11b5a04e236f"
      },
      "execution_count": 26,
      "outputs": [
        {
          "output_type": "stream",
          "name": "stdout",
          "text": [
            "Appending to app.py\n"
          ]
        }
      ]
    },
    {
      "cell_type": "markdown",
      "source": [
        "## 7단계 크레아티닌 변화와 AKI 위험도 그래프"
      ],
      "metadata": {
        "id": "VyuwgIDKYhso"
      }
    },
    {
      "cell_type": "code",
      "source": [
        "%%writefile -a app.py\n",
        "\n",
        "def plot_creatinine_and_risk(patient, view_day):\n",
        "    \"\"\"\n",
        "    환자의 크레아티닌 변화와 AKI 위험도를 시각화하는 함수입니다.\n",
        "\n",
        "    :param patient: 환자 데이터가 포함된 DataFrame 또는 Series\n",
        "    :param view_day: 예측 시점 (정수)\n",
        "    :return: plotly Figure 객체\n",
        "    \"\"\"\n",
        "    # 크레아티닌 데이터 추출\n",
        "    creatinine_data = []\n",
        "    for day in range(1, 8):\n",
        "        for time in range(1, 4):\n",
        "            col_name = f'd{day}_{time}_creatinine'\n",
        "            if col_name in patient.index and pd.notna(patient[col_name]):\n",
        "                x = day + (time - 1) / 3\n",
        "                creatinine_data.append((x, patient[col_name], day, time))\n",
        "\n",
        "    # 기저 크레아티닌 값\n",
        "    b_cr = patient.b_cr\n",
        "\n",
        "    # AKI 위험도 (probability) 데이터 생성\n",
        "    # 주의: 실제 데이터에서는 이 부분을 적절히 수정해야 합니다.\n",
        "    np.random.seed(42)\n",
        "    risk_data = []\n",
        "    for day in range(1, 8):\n",
        "        for time in range(1, 4):\n",
        "            x = day + (time - 1) / 3\n",
        "            if x <= view_day:\n",
        "                risk = np.clip(np.random.normal(0.1, 0.05), 0, 1)\n",
        "            elif x == view_day:\n",
        "                risk = patient['probability']\n",
        "            else:\n",
        "                risk = None\n",
        "            if risk is not None:\n",
        "                risk_data.append((x, risk))\n",
        "\n",
        "    # 그래프 생성\n",
        "    fig = make_subplots(specs=[[{\"secondary_y\": True}]])\n",
        "\n",
        "    # 크레아티닌 데이터 추가\n",
        "    if creatinine_data:\n",
        "        x, y, days, times = zip(*creatinine_data)\n",
        "        time_ranges = [f\"{(t - 1) * 8}-{t * 8}\" for t in times]\n",
        "        fig.add_trace(go.Scatter(\n",
        "            x=x, y=y,\n",
        "            mode='lines+markers',\n",
        "            name=\"크레아티닌\",\n",
        "            marker=dict(symbol='circle', size=10),\n",
        "            hovertemplate=\"Day: %{customdata[0]}<br>Time: %{customdata[1]}<br>Value: %{y:.2f}\",\n",
        "            customdata=list(zip(days, time_ranges))\n",
        "        ), secondary_y=False)\n",
        "\n",
        "    # AKI 위험도 데이터 추가\n",
        "    if risk_data:\n",
        "        x, y = zip(*risk_data)\n",
        "        fig.add_trace(go.Scatter(\n",
        "            x=x, y=y,\n",
        "            mode='lines+markers',\n",
        "            name=\"AKI 위험도\",\n",
        "            line=dict(color=\"red\"),\n",
        "            marker=dict(symbol='circle', size=10),\n",
        "            hovertemplate=\"Day: %{x:.2f}<br>Risk: %{y:.2f}\",\n",
        "        ), secondary_y=True)\n",
        "\n",
        "    # 기준선 추가\n",
        "    fig.add_hline(y=b_cr, line_color=\"green\", annotation_text=\"기저 크레아티닌\", secondary_y=False)\n",
        "    fig.add_hline(y=min(b_cr*1.5, b_cr+0.3), line_color=\"orange\", annotation_text=\"AKI Threshold\", secondary_y=False)\n",
        "    fig.add_vline(x=view_day, line_dash=\"dash\", line_color=\"green\", annotation_text=\"예측 시점\")\n",
        "\n",
        "    # AKI 발생 시 배경 표시\n",
        "    if patient['actual_aki'] == 1:\n",
        "        fig.add_shape(\n",
        "            type=\"rect\",\n",
        "            x0=view_day,\n",
        "            x1=max(view_day + 2, 7),\n",
        "            y0=0,\n",
        "            y1=1,\n",
        "            fillcolor=\"red\",\n",
        "            opacity=0.3,\n",
        "            layer=\"below\",\n",
        "            line_width=0,\n",
        "        )\n",
        "\n",
        "    # 레이아웃 설정\n",
        "    fig.update_layout(\n",
        "        title_text=\"크레아티닌 변화와 AKI 위험도\",\n",
        "        xaxis_title=\"입원 후 일수\",\n",
        "    )\n",
        "    fig.update_xaxes(title_text=\"입원 후 일수\", range=[0.8, 7.2], dtick=1)\n",
        "    fig.update_yaxes(title_text=\"크레아티닌 수치\", secondary_y=False)\n",
        "    fig.update_yaxes(title_text=\"AKI 위험도\", range=[0, 1], secondary_y=True)\n",
        "\n",
        "    return fig\n",
        "\n",
        "st.plotly_chart(plot_creatinine_and_risk(patient, view_day), use_container_width=True)"
      ],
      "metadata": {
        "id": "__1mxxNSYyix",
        "colab": {
          "base_uri": "https://localhost:8080/"
        },
        "outputId": "ae8282f8-8e38-48c1-842f-2a446ba6a87d"
      },
      "execution_count": 27,
      "outputs": [
        {
          "output_type": "stream",
          "name": "stdout",
          "text": [
            "Appending to app.py\n"
          ]
        }
      ]
    },
    {
      "cell_type": "markdown",
      "source": [
        "## 8단계 모델 예측 결과 표시"
      ],
      "metadata": {
        "id": "_cGG_DnUiFP_"
      }
    },
    {
      "cell_type": "code",
      "source": [
        "%%writefile -a app.py\n",
        "def display_aki_prediction(probability, prediction, threshold=0.9, actual_aki=None):\n",
        "    \"\"\"\n",
        "    AKI 예측 결과를 시각적으로 표시하는 함수\n",
        "\n",
        "    :param probability: AKI 위험도 점수 (0~1 사이의 float)\n",
        "    :param prediction: 모델의 예측 결과 (True 또는 False)\n",
        "    :param threshold: AKI 예측을 위한 확률 임계값 (기본값 0.9)\n",
        "    :param actual_aki: 실제 AKI 발생 여부 (0, 1 또는 None)\n",
        "    \"\"\"\n",
        "    # 예측 정확도에 따른 색상 설정\n",
        "    if actual_aki is not None:\n",
        "        if (prediction and actual_aki == 1) or (not prediction and actual_aki == 0):\n",
        "            color = \"#2ecc71\"  # 밝은 녹색 (정확한 예측)\n",
        "        else:\n",
        "            color = \"#e74c3c\"  # 밝은 빨간색 (부정확한 예측)\n",
        "    else:\n",
        "        color = \"#3498db\"  # 밝은 파란색 (결과 미확인)\n",
        "\n",
        "    # 예측 확률 게이지 생성\n",
        "    fig = go.Figure(go.Indicator(\n",
        "        mode = \"gauge+number\",\n",
        "        value = probability,\n",
        "        domain = {'x': [0, 1], 'y': [0, 1]},\n",
        "        title = {'text': \"AKI 위험도\", 'font': {'size': 24}},\n",
        "        gauge = {\n",
        "            'axis': {'range': [0, 1], 'tickwidth': 1, 'tickcolor': \"darkblue\"},\n",
        "            'bar': {'color': color if probability < threshold else '#f39c12'},\n",
        "            'bgcolor': \"white\",\n",
        "            'borderwidth': 2,\n",
        "            'bordercolor': \"#bdc3c7\",  # 연한 회색\n",
        "            'steps': [\n",
        "                {'range': [0, 1], 'color': '#ecf0f1'}],  # 수정된 부분\n",
        "            'threshold': {\n",
        "                'line': {'color': \"red\", 'width': 4},\n",
        "                'thickness': 0.75,\n",
        "                'value': threshold}}))\n",
        "\n",
        "    # Streamlit 3개의 컬럼 생성\n",
        "    col1, col2, col3 = st.columns([1, 1, 2])\n",
        "\n",
        "    # 첫 번째 열에 예측 확률 게이지 표시\n",
        "    with col1:\n",
        "        st.plotly_chart(fig, use_container_width=True)\n",
        "\n",
        "    # 두 번째 열에 예측 결과와 실제 결과 표시\n",
        "    with col2:\n",
        "        st.markdown(\"### 예측 결과\")\n",
        "        st.markdown(f\"**모델 예측:** {'AKI' if prediction else '정상'}\")\n",
        "        st.markdown(f\"**위험도:** {probability:.2%}\")\n",
        "\n",
        "        if actual_aki is not None:\n",
        "            st.markdown(\"### 실제 결과\")\n",
        "            st.markdown(f\"**실제 AKI 발생:** {'AKI' if actual_aki == 1 else '정상'}\")\n",
        "\n",
        "            if (prediction and actual_aki == 1) or (not prediction and actual_aki == 0):\n",
        "                st.success(\"이 예측은 정확했습니다.\")\n",
        "            else:\n",
        "                st.error(\"이 예측은 부정확했습니다.\")\n",
        "        else:\n",
        "            st.info(\"실제 결과가 아직 확인되지 않았습니다.\")\n",
        "\n",
        "    # 세 번째 열에 추가 설명\n",
        "    with col3:\n",
        "        st.markdown(\"### 추가 설명\")\n",
        "        st.info(f\"\"\"\n",
        "        - 위험도 점수가 {threshold:.0%} 이상일 때 AKI 발생으로 예측합니다.\n",
        "        - 게이지의 색상 의미:\n",
        "          - 녹색: 정확한 예측\n",
        "          - 빨간색: 부정확한 예측\n",
        "          - 파란색: 결과 미확인\n",
        "        - 임계값({threshold:.0%}) 이상인 경우 게이지가 주황색으로 변합니다.\n",
        "        \"\"\")\n",
        "\n",
        "display_aki_prediction(patient['probability'], patient['prediction'], 0.9, patient.get('actual_aki'))"
      ],
      "metadata": {
        "id": "3vI-uHA2iIjK",
        "colab": {
          "base_uri": "https://localhost:8080/"
        },
        "outputId": "ea878a1b-df0e-4f6b-d9ba-e53d8e8ff841"
      },
      "execution_count": 28,
      "outputs": [
        {
          "output_type": "stream",
          "name": "stdout",
          "text": [
            "Appending to app.py\n"
          ]
        }
      ]
    },
    {
      "cell_type": "markdown",
      "source": [
        "## 9단계 - 전체 배치 & 순서 조정, 모델 주요 변수 표시\n",
        "- 아래 항목은 추가적인 수정내용에 대한 설명입니다(실행용 아님). 이를 실행한 내용은 전체 완성 코드 Version 2에서 확인하면 됩니다."
      ],
      "metadata": {
        "id": "L1bxxMcpjIT6"
      }
    },
    {
      "cell_type": "code",
      "source": [
        "# 지금까지 작성한 코드는 추가한 순서대로 나타내도록 한 것입니다.\n",
        "# 여기에 순서를 변경할 수 있도록 순서에 따라 섹션을 표시하는 코드를 추가하고,\n",
        "# 기존에 표시하는 코드를 제거하면\n",
        "# 사용자가 원하는 순서대로 항목을 배치할 수 있습니다\n",
        "# 선택된 순서대로 섹션 표시\n",
        "for section in section_order:\n",
        "    st.subheader(section)\n",
        "    if section == \"기본 정보\":\n",
        "        display_basic_info(patient, top_features, show_features)\n",
        "    elif section == \"기저질환\":\n",
        "        display_comorbidities(patient, top_features, show_features)\n",
        "    elif section == \"검사 결과\":\n",
        "        st.plotly_chart(plot_lab_results(patient, sections[section], top_features, show_features), use_container_width=True)\n",
        "    elif section == \"Vital Signs\":\n",
        "        st.plotly_chart(plot_vital_signs(patient, sections[section], top_features, show_features), use_container_width=True)\n",
        "    elif section == \"약품 처방\":\n",
        "        st.plotly_chart(plot_medications(patient, top_features, show_features), use_container_width=True)\n",
        "    else:\n",
        "        cols = st.columns(3)\n",
        "        for i, feature in enumerate(sections[section]):\n",
        "            if feature in patient.index:\n",
        "                value = patient[feature]\n",
        "                display_value = f\"{value:.2f}\" if isinstance(value, float) else value\n",
        "                display_value += \" ⭐\" if show_features and feature in top_features else \"\"\n",
        "                cols[i % 3].metric(feature, display_value)"
      ],
      "metadata": {
        "id": "FF1MnLMfoM27",
        "colab": {
          "base_uri": "https://localhost:8080/",
          "height": 211
        },
        "outputId": "29154c28-d8fe-4ee5-9e03-185be90285c1"
      },
      "execution_count": 29,
      "outputs": [
        {
          "output_type": "error",
          "ename": "NameError",
          "evalue": "name 'section_order' is not defined",
          "traceback": [
            "\u001b[0;31m---------------------------------------------------------------------------\u001b[0m",
            "\u001b[0;31mNameError\u001b[0m                                 Traceback (most recent call last)",
            "\u001b[0;32m<ipython-input-29-4f763d09004d>\u001b[0m in \u001b[0;36m<cell line: 6>\u001b[0;34m()\u001b[0m\n\u001b[1;32m      4\u001b[0m \u001b[0;31m# 사용자가 원하는 순서대로 항목을 배치할 수 있습니다\u001b[0m\u001b[0;34m\u001b[0m\u001b[0;34m\u001b[0m\u001b[0m\n\u001b[1;32m      5\u001b[0m \u001b[0;31m# 선택된 순서대로 섹션 표시\u001b[0m\u001b[0;34m\u001b[0m\u001b[0;34m\u001b[0m\u001b[0m\n\u001b[0;32m----> 6\u001b[0;31m \u001b[0;32mfor\u001b[0m \u001b[0msection\u001b[0m \u001b[0;32min\u001b[0m \u001b[0msection_order\u001b[0m\u001b[0;34m:\u001b[0m\u001b[0;34m\u001b[0m\u001b[0;34m\u001b[0m\u001b[0m\n\u001b[0m\u001b[1;32m      7\u001b[0m     \u001b[0mst\u001b[0m\u001b[0;34m.\u001b[0m\u001b[0msubheader\u001b[0m\u001b[0;34m(\u001b[0m\u001b[0msection\u001b[0m\u001b[0;34m)\u001b[0m\u001b[0;34m\u001b[0m\u001b[0;34m\u001b[0m\u001b[0m\n\u001b[1;32m      8\u001b[0m     \u001b[0;32mif\u001b[0m \u001b[0msection\u001b[0m \u001b[0;34m==\u001b[0m \u001b[0;34m\"기본 정보\"\u001b[0m\u001b[0;34m:\u001b[0m\u001b[0;34m\u001b[0m\u001b[0;34m\u001b[0m\u001b[0m\n",
            "\u001b[0;31mNameError\u001b[0m: name 'section_order' is not defined"
          ]
        }
      ]
    },
    {
      "cell_type": "code",
      "source": [
        "# 추가로, 주요 변수를 환자 데이터를 나타낸 자료와 그래프 위에 선택적으로 표시하기 위해서\n",
        "# 선택할 수 있는 버튼을 사이드바에 추가하고,\n",
        "# 각각의 함수에 top_features, show_features 인자를 추가하여\n",
        "# 주요 변수에 해당하는 값을 강조하여 표시할 수 있습니다.\n",
        "\n",
        "# 주요 특성 표시 버튼\n",
        "show_features = st.sidebar.checkbox(\"주요 특성 표시\", value=False)\n",
        "\n",
        "# 예를 들어서, 기저질환 표시 함수는 다음과 같이 수정할 수 있습니다.\n",
        "def display_comorbidities(patient):\n",
        "    comorbidities = [col for col in patient.index if col in disease_mapping]\n",
        "    cols = st.columns(3)\n",
        "    for i, disease in enumerate(comorbidities):\n",
        "        #  각 기저질환의 이름을 굵게 표시하고, 환자가 해당 질병을 가지고 있으면 (즉, data 값이 1) 체크 표시를 추가합니다\n",
        "        display_text = f\"**{disease_mapping[disease]}**: \" + (\":white_check_mark:\" if patient[disease] == 1 else \"\")\n",
        "        cols[i % 3].markdown(display_text)\n",
        "\n",
        "\n",
        "def display_comorbidities(patient, top_features, show_features): # 인자를 두 가지 더 받습니다.\n",
        "    comorbidities = [col for col in patient.index if col in disease_mapping]\n",
        "    cols = st.columns(3)\n",
        "    for i, disease in enumerate(comorbidities):\n",
        "        display_text = f\"**{disease_mapping[disease]}**: \" + (\":white_check_mark:\" if patient[disease] == 1 else \"\")\n",
        "        # 주요 변수에 포함되어 있다면 별표를 표시합니다!\n",
        "        display_text += \" ⭐\" if show_features and disease in top_features else \"\"\n",
        "        cols[i % 3].markdown(display_text)"
      ],
      "metadata": {
        "id": "gkC2PeCVo8vR",
        "colab": {
          "base_uri": "https://localhost:8080/"
        },
        "outputId": "1fb5d21d-77ca-481b-f6cb-6d9ba5042c3b"
      },
      "execution_count": 30,
      "outputs": [
        {
          "output_type": "stream",
          "name": "stderr",
          "text": [
            "2024-08-09 04:40:59.630 \n",
            "  \u001b[33m\u001b[1mWarning:\u001b[0m to view this Streamlit app on a browser, run it with the following\n",
            "  command:\n",
            "\n",
            "    streamlit run /usr/local/lib/python3.10/dist-packages/colab_kernel_launcher.py [ARGUMENTS]\n"
          ]
        }
      ]
    },
    {
      "cell_type": "markdown",
      "source": [
        "# 전체 완성 코드"
      ],
      "metadata": {
        "id": "Iil6dI_7MsCA"
      }
    },
    {
      "cell_type": "code",
      "source": [
        "# 기존 코드를 대체하여 아래 내용으로 app.py를 수정합니다.\n",
        "%%writefile app.py\n",
        "\n",
        "import streamlit as st\n",
        "import pandas as pd\n",
        "import numpy as np\n",
        "import matplotlib.pyplot as plt\n",
        "import seaborn as sns\n",
        "import plotly.graph_objs as go\n",
        "from plotly.subplots import make_subplots\n",
        "import matplotlib.colors as mcolors\n",
        "\n",
        "# 페이지 설정\n",
        "st.set_page_config(layout=\"wide\", page_title=\"AKI 위험도 예측 대시보드\")\n",
        "\n",
        "# 데이터 로드 및 전처리\n",
        "# @st.cache_data\n",
        "def load_data():\n",
        "    patient_data = pd.read_csv('AKI_prediction_patient.csv')\n",
        "    lrp_dynamic = pd.read_csv('AKI_prediction_lrp_dynamic.csv')\n",
        "    lrp_static = pd.read_csv('AKI_prediction_lrp_static.csv')\n",
        "    return patient_data, lrp_dynamic, lrp_static\n",
        "\n",
        "\n",
        "def adjust_day(day, view_day):\n",
        "    return view_day - 3 + int(day[1])\n",
        "\n",
        "def adjust_feature_names(data, view_day):\n",
        "    adjusted_data = data.copy()\n",
        "    for col in data.columns:\n",
        "        parts = col.split('_')\n",
        "        if parts[0] == 'd1' or parts[0] =='d2':\n",
        "            day = int(parts[0][1])\n",
        "            adjusted_day = adjust_day(f'd{day}', view_day)\n",
        "            new_col = f'd{adjusted_day}_' + '_'.join(parts[1:])\n",
        "            adjusted_data = adjusted_data.rename(columns={col: new_col})\n",
        "    return adjusted_data\n",
        "\n",
        "\n",
        "def plot_creatinine_and_risk(patient, view_day):\n",
        "    \"\"\"\n",
        "    환자의 크레아티닌 변화와 AKI 위험도를 시각화하는 함수입니다.\n",
        "\n",
        "    :param patient: 환자 데이터가 포함된 DataFrame 또는 Series\n",
        "    :param view_day: 예측 시점 (정수)\n",
        "    :return: plotly Figure 객체\n",
        "    \"\"\"\n",
        "    # 크레아티닌 데이터 추출\n",
        "    creatinine_data = []\n",
        "    for day in range(1, 8):\n",
        "        for time in range(1, 4):\n",
        "            col_name = f'd{day}_{time}_creatinine'\n",
        "            if col_name in patient.index and pd.notna(patient[col_name]):\n",
        "                x = day + (time - 1) / 3\n",
        "                creatinine_data.append((x, patient[col_name], day, time))\n",
        "\n",
        "    # 기저 크레아티닌 값\n",
        "    b_cr = patient.b_cr\n",
        "\n",
        "    # AKI 위험도 (probability) 데이터 생성\n",
        "    # 주의: 실제 데이터에서는 이 부분을 적절히 수정해야 합니다.\n",
        "    np.random.seed(42)\n",
        "    risk_data = []\n",
        "    for day in range(3, 8):\n",
        "        x = day\n",
        "        if x < view_day:\n",
        "          # 실제 값은 과거 예측 시점마다 존재\n",
        "            risk = patient['probability'] + np.random.normal(-0.3,0.1)\n",
        "        elif x == view_day:\n",
        "            risk = patient['probability']\n",
        "        else:\n",
        "            risk = None\n",
        "        if risk is not None:\n",
        "            risk_data.append((x, risk))\n",
        "\n",
        "    # 그래프 생성\n",
        "    fig = make_subplots(specs=[[{\"secondary_y\": True}]])\n",
        "\n",
        "    # 크레아티닌 데이터 추가\n",
        "    if creatinine_data:\n",
        "        x, y, days, times = zip(*creatinine_data)\n",
        "        time_ranges = [f\"{(t - 1) * 8}-{t * 8}\" for t in times]\n",
        "        fig.add_trace(go.Scatter(\n",
        "            x=x, y=y,\n",
        "            mode='lines+markers',\n",
        "            name=\"크레아티닌\",\n",
        "            marker=dict(symbol='circle', size=10),\n",
        "            hovertemplate=\"Day: %{customdata[0]}<br>Time: %{customdata[1]}<br>Value: %{y:.2f}\",\n",
        "            customdata=list(zip(days, time_ranges))\n",
        "        ), secondary_y=False)\n",
        "\n",
        "    # AKI 위험도 데이터 추가\n",
        "    if risk_data:\n",
        "        x, y = zip(*risk_data)\n",
        "        fig.add_trace(go.Scatter(\n",
        "            x=x, y=y,\n",
        "            mode='lines+markers',\n",
        "            name=\"AKI 위험도\",\n",
        "            line=dict(color=\"red\"),\n",
        "            marker=dict(symbol='circle', size=10),\n",
        "            hovertemplate=\"Day: %{x:.2f}<br>Risk: %{y:.2f}\",\n",
        "        ), secondary_y=True)\n",
        "\n",
        "    # 기준선 추가\n",
        "    fig.add_hline(y=b_cr, line_color=\"green\", annotation_text=\"기저 크레아티닌\", secondary_y=False)\n",
        "    fig.add_hline(y=min(b_cr*1.5, b_cr+0.3), line_color=\"orange\", annotation_text=\"AKI Threshold\", secondary_y=False)\n",
        "    fig.add_vline(x=view_day, line_dash=\"dash\", line_color=\"green\", annotation_text=\"예측 시점\")\n",
        "\n",
        "    # AKI 발생 시 배경 표시\n",
        "    if patient['actual_aki'] == 1:\n",
        "        fig.add_shape(\n",
        "            type=\"rect\",\n",
        "            x0=view_day,\n",
        "            x1=max(view_day + 2, 7),\n",
        "            y0=0,\n",
        "            y1=1,\n",
        "            fillcolor=\"red\",\n",
        "            opacity=0.3,\n",
        "            layer=\"below\",\n",
        "            line_width=0,\n",
        "        )\n",
        "\n",
        "    # 레이아웃 설정\n",
        "    fig.update_layout(\n",
        "        title_text=\"크레아티닌 변화와 AKI 위험도\",\n",
        "        xaxis_title=\"입원 후 일수\",\n",
        "    )\n",
        "    fig.update_xaxes(title_text=\"입원 후 일수\", range=[0.8, 7.2], dtick=1)\n",
        "    fig.update_yaxes(title_text=\"크레아티닌 수치\", secondary_y=False)\n",
        "    fig.update_yaxes(title_text=\"AKI 위험도\", range=[0, 1], secondary_y=True)\n",
        "\n",
        "    return fig\n",
        "\n",
        "def display_aki_prediction(probability, prediction, threshold=0.9, actual_aki=None):\n",
        "    \"\"\"\n",
        "    AKI 예측 결과를 시각적으로 표시하는 함수\n",
        "\n",
        "    :param probability: AKI 위험도 점수 (0~1 사이의 float)\n",
        "    :param prediction: 모델의 예측 결과 (True 또는 False)\n",
        "    :param threshold: AKI 예측을 위한 확률 임계값 (기본값 0.9)\n",
        "    :param actual_aki: 실제 AKI 발생 여부 (0, 1 또는 None)\n",
        "    \"\"\"\n",
        "    # 예측 정확도에 따른 색상 설정\n",
        "    if actual_aki is not None:\n",
        "        if (prediction and actual_aki == 1) or (not prediction and actual_aki == 0):\n",
        "            color = \"#2ecc71\"  # 밝은 녹색 (정확한 예측)\n",
        "        else:\n",
        "            color = \"#e74c3c\"  # 밝은 빨간색 (부정확한 예측)\n",
        "    else:\n",
        "        color = \"#3498db\"  # 밝은 파란색 (결과 미확인)\n",
        "\n",
        "    # 예측 확률 게이지 생성\n",
        "    fig = go.Figure(go.Indicator(\n",
        "        mode = \"gauge+number\",\n",
        "        value = probability,\n",
        "        domain = {'x': [0, 1], 'y': [0, 1]},\n",
        "        title = {'text': \"AKI 위험도\", 'font': {'size': 24}},\n",
        "        gauge = {\n",
        "            'axis': {'range': [0, 1], 'tickwidth': 1, 'tickcolor': \"darkblue\"},\n",
        "            'bar': {'color': color if probability < threshold else '#f39c12'},\n",
        "            'bgcolor': \"white\",\n",
        "            'borderwidth': 2,\n",
        "            'bordercolor': \"#bdc3c7\",  # 연한 회색\n",
        "            'steps': [\n",
        "                {'range': [0, 1], 'color': '#ecf0f1'}],  # 수정된 부분\n",
        "            'threshold': {\n",
        "                'line': {'color': \"red\", 'width': 4},\n",
        "                'thickness': 0.75,\n",
        "                'value': threshold}}))\n",
        "\n",
        "    fig.update_layout(\n",
        "        height=350,\n",
        "        font={'color': \"#2c3e50\", 'family': \"Arial\"},\n",
        "        paper_bgcolor = \"white\",\n",
        "        plot_bgcolor = \"white\",\n",
        "        margin=dict(l=20, r=20, t=30, b=20))  # 마진 조정\n",
        "\n",
        "    # Streamlit 3개의 컬럼 생성\n",
        "    col1, col2, col3 = st.columns([1, 1, 2])\n",
        "\n",
        "    # 첫 번째 열에 예측 확률 게이지 표시\n",
        "    with col1:\n",
        "        st.plotly_chart(fig, use_container_width=True)\n",
        "\n",
        "    # 두 번째 열에 예측 결과와 실제 결과 표시\n",
        "    with col2:\n",
        "        st.markdown(\"### 예측 결과\")\n",
        "        st.markdown(f\"**모델 예측:** {'AKI' if prediction else '정상'}\")\n",
        "        st.markdown(f\"**위험도:** {probability:.2%}\")\n",
        "\n",
        "        if actual_aki is not None:\n",
        "            st.markdown(\"### 실제 결과\")\n",
        "            st.markdown(f\"**실제 AKI 발생:** {'AKI' if actual_aki == 1 else '정상'}\")\n",
        "\n",
        "            if (prediction and actual_aki == 1) or (not prediction and actual_aki == 0):\n",
        "                st.success(\"이 예측은 정확했습니다.\")\n",
        "            else:\n",
        "                st.error(\"이 예측은 부정확했습니다.\")\n",
        "        else:\n",
        "            st.info(\"실제 결과가 아직 확인되지 않았습니다.\")\n",
        "\n",
        "    # 세 번째 열에 추가 설명\n",
        "    with col3:\n",
        "        st.markdown(\"### 추가 설명\")\n",
        "        st.info(f\"\"\"\n",
        "        - 위험도 점수가 {threshold:.0%} 이상일 때 AKI 발생으로 예측합니다.\n",
        "        - 게이지의 색상 의미:\n",
        "          - 녹색: 정확한 예측\n",
        "          - 빨간색: 부정확한 예측\n",
        "          - 파란색: 결과 미확인\n",
        "        - 임계값({threshold:.0%}) 이상인 경우 게이지가 주황색으로 변합니다.\n",
        "        \"\"\")\n",
        "\n",
        "# 기저질환 이름 매핑\n",
        "disease_mapping = {\n",
        "    \"diabetes\": \"당뇨\",\n",
        "    \"htn\": \"고혈압\",\n",
        "    \"chf\": \"울혈성 심부전\",\n",
        "    \"cvd\": \"심혈관 질환\",\n",
        "    \"pulmonary_disease\": \"폐 질환\",\n",
        "    \"liver_disease\": \"간 질환\",\n",
        "    \"cancer\": \"암\",\n",
        "    \"cci\": \"동반질환지수\",\n",
        "    \"aki\": \"급성 신손상\",\n",
        "    \"ami\": \"급성 심근경색\",\n",
        "    \"dementia\": \"치매\",\n",
        "    \"diabetic_complication\": \"당뇨 합병증\",\n",
        "    \"metastatic_cancer\": \"전이성 암\",\n",
        "    \"paraplegia\": \"하반신 마비\",\n",
        "    \"peptic_ulcer\": \"소화성 궤양\",\n",
        "    \"pulmonary_disease\": \"폐 질환\",\n",
        "    \"pvd\": \"말초혈관질환\",\n",
        "    \"renal_disease\": \"신장 질환\",\n",
        "    \"severe_liver_disease\": \"중증 간 질환\"\n",
        "}\n",
        "\n",
        "def display_basic_info(patient, top_features, show_features):\n",
        "    col1, col2, col3, col4, col5, col6 = st.columns(6)\n",
        "    col1.metric(\"나이\", f\"{patient['age']:.0f}\" + (\" ⭐\" if show_features and \"age\" in top_features else \"\"))\n",
        "    col2.metric(\"성별\", (\"남성\" if patient['sex'] == 1 else \"여성\") + (\" ⭐\" if show_features and \"sex\" in top_features else \"\"))\n",
        "    col3.metric(\"BMI\", f\"{patient['bmi']:.1f}\" + (\" ⭐\" if show_features and \"bmi\" in top_features else \"\"))\n",
        "    col4.metric(\"기저 크레아티닌\", f\"{patient['b_cr']:.1f}\" + (\" ⭐\" if show_features and \"b_cr\" in top_features else \"\"))\n",
        "    col5.metric(\"진료과\", patient['dept_en'] + (\" ⭐\" if show_features and \"dept_en\" in top_features else \"\"))\n",
        "    col6.metric(\"중환자실\", (\"O\" if patient['icu'] == 1 else \"x\") + (\" ⭐\" if show_features and \"icu\" in top_features else \"\"))\n",
        "\n",
        "def display_comorbidities(patient, top_features, show_features):\n",
        "    comorbidities = [col for col in patient.index if col in disease_mapping]\n",
        "    cols = st.columns(3)\n",
        "    for i, disease in enumerate(comorbidities):\n",
        "        display_text = f\"**{disease_mapping[disease]}**: \" + (\":white_check_mark:\" if patient[disease] == 1 else \"\")\n",
        "        display_text += \" ⭐\" if show_features and disease in top_features else \"\"\n",
        "        cols[i % 3].markdown(display_text)\n",
        "\n",
        "\n",
        "\n",
        "def plot_lab_results(patient, lab_tests, top_features, show_features):\n",
        "    cols = 3\n",
        "    rows = (len(lab_tests) + cols - 1) // cols\n",
        "    fig = make_subplots(rows=rows, cols=cols, subplot_titles=lab_tests)\n",
        "\n",
        "    for i, test in enumerate(lab_tests):\n",
        "        row = i // cols + 1\n",
        "        col = i % cols + 1\n",
        "\n",
        "        data = []\n",
        "        for day in range(1, 8):\n",
        "            for time in range(1, 4):\n",
        "                col_name = f'd{day}_{time}_{test}'\n",
        "\n",
        "                if col_name in patient.index and (pd.notna(patient[col_name]).any() if isinstance(pd.notna(patient[col_name]), pd.Series) else pd.notna(patient[col_name])):\n",
        "                    x = day + (time - 1) / 3\n",
        "                    data.append((x, patient[col_name], day, time))\n",
        "\n",
        "        if data:\n",
        "            x, y, days, times = zip(*data)\n",
        "            time_ranges = [f\"{(t - 1) * 8}-{t * 8}\" for t in times]\n",
        "\n",
        "            # 별표 표시를 위한 마커 설정\n",
        "            if show_features:\n",
        "                marker_symbol = ['star' if f'd{day}_{time}_{test}' in top_features else 'circle' for day, time in\n",
        "                                 zip(days, times)]\n",
        "                marker_size = [15 if symbol == 'star' else 10 for symbol in marker_symbol]\n",
        "            else:\n",
        "                marker_symbol = 'circle'\n",
        "                marker_size = 10\n",
        "\n",
        "            fig.add_trace(go.Scatter(\n",
        "                x=x,\n",
        "                y=y,\n",
        "                mode='lines+markers',\n",
        "                name=test,\n",
        "                marker=dict(symbol=marker_symbol, size=marker_size),\n",
        "                hovertemplate=\"Day: %{customdata[0]}<br>Time: %{customdata[1]}<br>Value: %{y:.2f}\",\n",
        "                customdata=list(zip(days, time_ranges))\n",
        "            ), row=row, col=col)\n",
        "\n",
        "        fig.update_xaxes(title_text=\"입원 후 일수\", range=[0.8, 7.2], dtick=1, row=row, col=col)\n",
        "        fig.update_yaxes(title_text=test, row=row, col=col)\n",
        "\n",
        "    fig.update_layout(height=300 * rows, showlegend=False, title_text=\"검사 결과\")\n",
        "    return fig\n",
        "\n",
        "def plot_vital_signs(patient, vital_signs, top_features, show_features):\n",
        "    cols = 3\n",
        "    rows = (len(vital_signs) + cols - 1) // cols\n",
        "    fig = make_subplots(rows=rows, cols=cols, subplot_titles=vital_signs)\n",
        "\n",
        "    for i, vital in enumerate(vital_signs):\n",
        "        row = i // cols + 1\n",
        "        col = i % cols + 1\n",
        "\n",
        "        data = []\n",
        "        for day in range(1, 8):\n",
        "            for time in range(1, 4):\n",
        "                avg_col = f'd{day}_{time}_{vital}_avg'\n",
        "                min_col = f'd{day}_{time}_{vital}_min'\n",
        "                max_col = f'd{day}_{time}_{vital}_max'\n",
        "\n",
        "                if all(col in patient.index for col in [avg_col, min_col, max_col]):\n",
        "                    try:\n",
        "                        if pd.notna(patient[avg_col]):\n",
        "                            x = day + (time - 1) / 3\n",
        "                            # 별표 추가 로직\n",
        "                            avg_value = patient[avg_col]\n",
        "                            min_value = patient[min_col]\n",
        "                            max_value = patient[max_col]\n",
        "                            if show_features:\n",
        "                                avg_value = f\"{avg_value}*\" if avg_col in top_features else avg_value\n",
        "                                min_value = f\"{min_value}*\" if min_col in top_features else min_value\n",
        "                                max_value = f\"{max_value}*\" if max_col in top_features else max_value\n",
        "                            data.append((x, avg_value, min_value, max_value, day, time))\n",
        "                    except:\n",
        "                        print(avg_col, patient[avg_col])\n",
        "\n",
        "        if data:\n",
        "            x, y_avg, y_min, y_max, days, times = zip(*data)\n",
        "            time_ranges = [f\"{(t - 1) * 8}-{t * 8}\" for t in times]\n",
        "\n",
        "            # 별표 표시를 위한 마커 설정\n",
        "            if show_features:\n",
        "                marker_symbol = ['star' if any(f'd{day}_{time}_{vital}_{suffix}' in top_features for suffix in ['avg', 'min', 'max']) else 'circle' for day, time in zip(days, times)]\n",
        "                marker_size = [15 if symbol == 'star' else 10 for symbol in marker_symbol]\n",
        "            else:\n",
        "                marker_symbol = 'circle'\n",
        "                marker_size = 10\n",
        "\n",
        "            fig.add_trace(go.Scatter(\n",
        "                x=x,\n",
        "                y=[float(str(y).rstrip('*')) for y in y_avg],  # 별표 제거 후 float로 변환\n",
        "                mode='lines+markers',\n",
        "                name=f'{vital}_avg',\n",
        "                hovertemplate=\"Avg: %{customdata[2]}<br>Min: %{customdata[3]}<br>Max: %{customdata[4]}<br>Day: %{customdata[0]}<br>Time: %{customdata[1]}\",\n",
        "                customdata=list(zip(days, time_ranges, y_avg, y_min, y_max)),  # y_avg, y_min, y_max를 customdata에 추가\n",
        "                marker=dict(symbol=marker_symbol, size=marker_size)\n",
        "            ), row=row, col=col)\n",
        "\n",
        "            fig.add_trace(go.Scatter(\n",
        "                x=x,\n",
        "                y=[float(str(y).rstrip('*')) for y in y_min],  # 별표 제거 후 float로 변환\n",
        "                fill=None,\n",
        "                mode='lines',\n",
        "                line_color='rgba(0,100,80,0.2)',\n",
        "                name=f'{vital}_min',\n",
        "                showlegend=False,\n",
        "                hoverinfo='skip'\n",
        "            ), row=row, col=col)\n",
        "\n",
        "            fig.add_trace(go.Scatter(\n",
        "                x=x,\n",
        "                y=[float(str(y).rstrip('*')) for y in y_max],  # 별표 제거 후 float로 변환\n",
        "                fill='tonexty',\n",
        "                mode='lines',\n",
        "                line_color='rgba(0,100,80,0.2)',\n",
        "                name=f'{vital}_max',\n",
        "                showlegend=False,\n",
        "                hoverinfo='skip'\n",
        "            ), row=row, col=col)\n",
        "\n",
        "        fig.update_xaxes(title_text=\"입원 후 일수\", range=[0.8, 7.2], dtick=1, row=row, col=col)\n",
        "        fig.update_yaxes(title_text=vital, row=row, col=col)\n",
        "\n",
        "    fig.update_layout(height=300 * rows, showlegend=False, title_text=\"Vital Signs\")\n",
        "    return fig\n",
        "\n",
        "def plot_medications(patient, top_features, show_features):\n",
        "    pre6m_cols = [col for col in patient.index if col.startswith(\"pre6m_\")]\n",
        "\n",
        "    inpatient_cols = [f\"d{day}_{col.replace('pre6m_', '')}\" for col in pre6m_cols for day in range(1, 8)]\n",
        "\n",
        "    all_meds = [col.replace('pre6m_', '') for col in pre6m_cols]\n",
        "\n",
        "    fig = make_subplots(rows=1, cols=2, subplot_titles=(\"입원 전 6개월 약품 처방\", \"입원 중 약품 처방\"),\n",
        "                        column_widths=[0.3, 0.7], shared_yaxes=True)\n",
        "\n",
        "    # 입원 전 6개월 약품 처방\n",
        "    for i, med in enumerate(all_meds):\n",
        "        if patient.get(f'pre6m_{med}', 0) == 1:\n",
        "            marker_symbol = 'star' if show_features and f'pre6m_{med}' in top_features else 'circle'\n",
        "            marker_size = 15 if marker_symbol == 'star' else 10\n",
        "            fig.add_trace(go.Scatter(\n",
        "                x=[0], y=[i],\n",
        "                mode='markers',\n",
        "                name=med,\n",
        "                marker=dict(size=marker_size, symbol=marker_symbol),\n",
        "                hovertemplate=f\"{med}: 처방됨{'*' if marker_symbol == 'star' else ''}\",\n",
        "                showlegend=False\n",
        "            ), row=1, col=1)\n",
        "\n",
        "    # 입원 중 약품 처방\n",
        "    for i, med in enumerate(all_meds):\n",
        "        x_vals = []\n",
        "        marker_symbols = []\n",
        "        marker_sizes = []\n",
        "        for day in range(1, 8):\n",
        "            col_name = f'd{day}_{med}'\n",
        "            if (col_name in patient.index) and (patient[col_name] == 1):\n",
        "                x_vals.append(day)\n",
        "                marker_symbol = 'star' if show_features and col_name in top_features else 'circle'\n",
        "                marker_symbols.append(marker_symbol)\n",
        "                marker_sizes.append(15 if marker_symbol == 'star' else 10)\n",
        "\n",
        "        if x_vals:\n",
        "            fig.add_trace(go.Scatter(\n",
        "                x=x_vals, y=[i] * len(x_vals),\n",
        "                mode='markers',\n",
        "                name=med,\n",
        "                marker=dict(size=marker_sizes, symbol=marker_symbols),\n",
        "                hovertemplate=f\"{med}: %{{x}}일차{'*' if 'star' in marker_symbols else ''}\",\n",
        "                showlegend=False\n",
        "            ), row=1, col=2)\n",
        "\n",
        "    fig.update_layout(\n",
        "        title=\"약품 처방\",\n",
        "        height=max(400, 30 * len(all_meds)),\n",
        "        hovermode=\"closest\"\n",
        "    )\n",
        "    fig.update_xaxes(title_text=\"\", range=[-0.5, 0.5], dtick=1, showticklabels=False, row=1, col=1)\n",
        "    fig.update_xaxes(title_text=\"입원 후 일수\", range=[0.8, 7.2], dtick=1, row=1, col=2)\n",
        "    fig.update_yaxes(\n",
        "        tickmode='array',\n",
        "        tickvals=list(range(len(all_meds))),\n",
        "        ticktext=all_meds,\n",
        "        title=\"약품\",\n",
        "        range=[-1, len(all_meds)],\n",
        "        row=1, col=1\n",
        "    )\n",
        "    fig.update_yaxes(\n",
        "        tickmode='array',\n",
        "        tickvals=list(range(len(all_meds))),\n",
        "        ticktext=all_meds,\n",
        "        title=\"\",\n",
        "        range=[-1, len(all_meds)],\n",
        "        row=1, col=2\n",
        "    )\n",
        "\n",
        "    # 처방이 없는 경우에도 그래프 영역 표시\n",
        "    fig.add_trace(go.Scatter(x=[None], y=[None], mode='markers', marker=dict(opacity=0), showlegend=False), row=1, col=1)\n",
        "    fig.add_trace(go.Scatter(x=[None], y=[None], mode='markers', marker=dict(opacity=0), showlegend=False), row=1, col=2)\n",
        "\n",
        "    return fig\n",
        "\n",
        "\n",
        "\n",
        "def get_top_features(lrp_static, lrp_dynamic, n=10):\n",
        "    static_top = lrp_static.nlargest(n).index.tolist()\n",
        "    dynamic_top = lrp_dynamic.nlargest(n).index.tolist()\n",
        "    return static_top, dynamic_top\n",
        "\n",
        "# 데이터 로드\n",
        "patient_data, lrp_dynamic, lrp_static = load_data()\n",
        "\n",
        "# 메인 페이지\n",
        "st.title(\"AKI 위험도 예측 대시보드\")\n",
        "# 환자 선택\n",
        "st.sidebar.title(\"환자 선택\")\n",
        "patient_id = st.sidebar.selectbox(\"환자 ID 선택\", patient_data['p_id'].unique())\n",
        "\n",
        "# 선택된 환자 데이터 로드\n",
        "patient = patient_data[patient_data['p_id'] == patient_id].iloc[0]\n",
        "view_day = patient['view_day']\n",
        "\n",
        "# LRP 데이터 로드 및 조정\n",
        "lrp_static_patient = lrp_static[lrp_static['p_id'] == patient_id].drop('p_id', axis=1).iloc[0]\n",
        "lrp_dynamic_patient = lrp_dynamic[lrp_dynamic['p_id'] == patient_id].drop('p_id', axis=1).iloc[0]\n",
        "\n",
        "lrp_static_patient = adjust_feature_names(pd.DataFrame(lrp_static_patient).T, view_day).iloc[0]\n",
        "lrp_dynamic_patient = adjust_feature_names(pd.DataFrame(lrp_dynamic_patient).T, view_day).iloc[0]\n",
        "\n",
        "# 주요 특성 추출\n",
        "static_top, dynamic_top = get_top_features(lrp_static_patient, lrp_dynamic_patient)\n",
        "top_features = static_top + dynamic_top\n",
        "\n",
        "# 주요 특성 표시 버튼\n",
        "show_features = st.sidebar.checkbox(\"주요 특성 표시\", value=False)\n",
        "\n",
        "# 섹션 정의\n",
        "sections = {\n",
        "    \"기본 정보\": [\"age\", \"sex\", \"bmi\"],\n",
        "    \"기저질환\": [col for col in patient.index if col in disease_mapping],\n",
        "    \"검사 결과\": [\"creatinine\", \"bun\", \"sodium\", \"potassium\", \"chloride\", \"glucose\", \"albumin\"],\n",
        "    \"Vital Signs\": [\"sbp\", \"dbp\", \"bt\"],\n",
        "    \"약품 처방\": [\"약품 처방\"]  # 이 섹션은 특별히 처리됩니다\n",
        "}\n",
        "\n",
        "# 섹션 순서 설정\n",
        "section_order = st.sidebar.multiselect(\n",
        "    \"섹션 순서 선택\",\n",
        "    list(sections.keys()),\n",
        "    default=list(sections.keys())\n",
        ")\n",
        "\n",
        "\n",
        "# 크레아티닌 및 AKI 위험도 그래프\n",
        "st.plotly_chart(plot_creatinine_and_risk(patient, view_day), use_container_width=True)\n",
        "\n",
        "# AKI 예측 결과\n",
        "# st.subheader(\"AKI 예측 결과\")\n",
        "# col1, col2 = st.columns(2)\n",
        "# col1.metric(\"예측 확률\", f\"{patient['probability']:.2%}\")\n",
        "# col2.metric(\"실제 AKI 발생\", \"예\" if patient['actual_aki'] == 1 else \"아니오\")\n",
        "display_aki_prediction(patient['probability'], patient['prediction'], 0.9, patient.get('actual_aki'))\n",
        "\n",
        "# 선택된 순서대로 섹션 표시\n",
        "for section in section_order:\n",
        "    st.subheader(section)\n",
        "    if section == \"기본 정보\":\n",
        "        display_basic_info(patient, top_features, show_features)\n",
        "    elif section == \"기저질환\":\n",
        "        display_comorbidities(patient, top_features, show_features)\n",
        "    elif section == \"검사 결과\":\n",
        "        st.plotly_chart(plot_lab_results(patient, sections[section], top_features, show_features), use_container_width=True)\n",
        "    elif section == \"Vital Signs\":\n",
        "        st.plotly_chart(plot_vital_signs(patient, sections[section], top_features, show_features), use_container_width=True)\n",
        "    elif section == \"약품 처방\":\n",
        "        st.plotly_chart(plot_medications(patient, top_features, show_features), use_container_width=True)\n",
        "    else:\n",
        "        cols = st.columns(3)\n",
        "        for i, feature in enumerate(sections[section]):\n",
        "            if feature in patient.index:\n",
        "                value = patient[feature]\n",
        "                display_value = f\"{value:.2f}\" if isinstance(value, float) else value\n",
        "                display_value += \" ⭐\" if show_features and feature in top_features else \"\"\n",
        "                cols[i % 3].metric(feature, display_value)\n",
        "\n",
        "\n",
        "\n",
        "\n",
        "def plot_lrp_importance(lrp_static_patient, lrp_dynamic_patient):\n",
        "    fig, (ax1, ax2) = plt.subplots(1, 2, figsize=(20, 8))\n",
        "\n",
        "    # 색상 팔레트 생성\n",
        "    colors = plt.cm.viridis(np.linspace(0, 1, 10))\n",
        "\n",
        "    # 정적 특성 시각화\n",
        "    top_static_features = lrp_static_patient.sort_values(ascending=False).head(10)\n",
        "    sns.barplot(x=top_static_features.values, y=top_static_features.index, ax=ax1, palette=colors)\n",
        "    ax1.set_title('Top 10 Static Features (LRP)')\n",
        "    ax1.set_xlabel('Feature importance')\n",
        "\n",
        "    # 동적 특성 시각화\n",
        "    top_dynamic_features = lrp_dynamic_patient.sort_values(ascending=False).head(10)\n",
        "    sns.barplot(x=top_dynamic_features.values, y=top_dynamic_features.index, ax=ax2, palette=colors)\n",
        "    ax2.set_title('Top 10 Dynamic Features (LRP)')\n",
        "    ax2.set_xlabel('Feature importance')\n",
        "\n",
        "    plt.tight_layout()\n",
        "    return fig\n",
        "\n",
        "# 주요 변수 시각화\n",
        "st.subheader(\"모델 주요 변수\")\n",
        "st.pyplot(plot_lrp_importance(lrp_static_patient, lrp_dynamic_patient))"
      ],
      "metadata": {
        "id": "ifgjFhpe8yAj",
        "colab": {
          "base_uri": "https://localhost:8080/"
        },
        "outputId": "c348c2ae-a46a-4922-e3d8-8b7af1751498"
      },
      "execution_count": 31,
      "outputs": [
        {
          "output_type": "stream",
          "name": "stdout",
          "text": [
            "Overwriting app.py\n"
          ]
        }
      ]
    },
    {
      "cell_type": "code",
      "source": [],
      "metadata": {
        "id": "eNRolBcqIyHG"
      },
      "execution_count": null,
      "outputs": []
    }
  ],
  "metadata": {
    "colab": {
      "provenance": [],
      "collapsed_sections": [
        "2hBO1YuV607T"
      ],
      "include_colab_link": true
    },
    "kernelspec": {
      "display_name": "Python 3",
      "name": "python3"
    },
    "language_info": {
      "name": "python"
    }
  },
  "nbformat": 4,
  "nbformat_minor": 0
}